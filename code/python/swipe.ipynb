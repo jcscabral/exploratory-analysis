{
 "cells": [
  {
   "cell_type": "code",
   "execution_count": 1,
   "metadata": {},
   "outputs": [],
   "source": [
    "from pathlib import Path\n",
    "import numpy as np\n",
    "import pandas as pd"
   ]
  },
  {
   "cell_type": "code",
   "execution_count": 3,
   "metadata": {},
   "outputs": [],
   "source": [
    "from sklearn.decomposition import PCA\n",
    "from sklearn.svm  import OneClassSVM\n",
    "from sklearn.pipeline import Pipeline\n",
    "from sklearn.model_selection import GridSearchCV\n",
    "from sklearn.model_selection import KFold"
   ]
  },
  {
   "cell_type": "code",
   "execution_count": 4,
   "metadata": {},
   "outputs": [],
   "source": [
    "PATH_CARDS = '/home/jcscabral/Studies/UspEsalq/Tcc/projeto/pesquisa/code/R/swipecards'\n",
    "\n",
    "pathfiles = [p for p in Path(PATH_CARDS).iterdir()]    "
   ]
  },
  {
   "cell_type": "code",
   "execution_count": 5,
   "metadata": {},
   "outputs": [],
   "source": [
    "def norm_data(X):\n",
    "    \n",
    "    Xn = (X.iloc[:,3:] - X.iloc[:,3:].mean())/X.iloc[:,3:].std()\n",
    "    Xn.fillna(0, inplace=True)\n",
    "    \n",
    "    #rearrange columns\n",
    "    Xn[\"user_id\"] = X[\"user_id\"] \n",
    "    Xn[\"swipe_number\"] = X[\"swipe_number\"] \n",
    "    Xn[\"action_number\"] = X[\"action_number\"] \n",
    "    cols = np.concatenate([Xn.columns.values[-3:], Xn.columns.values[:-3]])\n",
    "    Xn = Xn[cols] \n",
    "       \n",
    "    return Xn"
   ]
  },
  {
   "cell_type": "code",
   "execution_count": 101,
   "metadata": {},
   "outputs": [],
   "source": [
    "def split_train_test(X):\n",
    "    \n",
    "    start = 1\n",
    "    end = 6\n",
    "\n",
    "    for _ in range(2):    \n",
    "        train = X[(X[\"action_number\"] >= start) &\n",
    "                  (X[\"action_number\"] < end)]\n",
    "        test = X[X[\"action_number\"] == end]\n",
    "\n",
    "        start += 1        \n",
    "        end += 1\n",
    "        yield train.iloc[:,3:], test.iloc[:,3:]\n",
    "        "
   ]
  },
  {
   "cell_type": "code",
   "execution_count": 11,
   "metadata": {},
   "outputs": [],
   "source": [
    "def template_data(X, n = 2):\n",
    "    \n",
    "    start = 1\n",
    "    end = 6\n",
    "\n",
    "    for _ in range(n):    \n",
    "        data = X[(X[\"action_number\"] >= start) &\n",
    "                  (X[\"action_number\"] < end)]        \n",
    "\n",
    "        start += 1        \n",
    "        end += 1\n",
    "        yield data.iloc[:,3:]"
   ]
  },
  {
   "cell_type": "code",
   "execution_count": 8,
   "metadata": {},
   "outputs": [],
   "source": [
    "def session_attack_data(X):\n",
    "    \n",
    "    for i in range(7):        \n",
    "        action_number = i +1\n",
    "        yield X[X[\"action_number\"] == action_number]"
   ]
  },
  {
   "cell_type": "code",
   "execution_count": 190,
   "metadata": {},
   "outputs": [],
   "source": [
    "def pca_data(Xbase, Xtest, n_components):\n",
    "    pca = PCA(n_components = n_components)\n",
    "    Xpca = pca.fit_transform(Xbase)\n",
    "    Xtransf  = pca.transform(Xtest)\n",
    "    return Xpca, Xtransf"
   ]
  },
  {
   "cell_type": "markdown",
   "metadata": {},
   "source": [
    "### GridSearch \"vanilla\"\n",
    "\n",
    "<p>Scenario in real world:</p>\n",
    "\n",
    "<p>Train with five sessions. Next session validates the tempĺate</p>\n",
    "<p>DAKOTA transforms 126 features into 30-70 new ones.</p>\n",
    "<p>Here with 280 features, stands from 20 to 160.</p> "
   ]
  },
  {
   "cell_type": "code",
   "execution_count": 12,
   "metadata": {},
   "outputs": [],
   "source": [
    "def grid_search_svm_one(X):\n",
    "    \n",
    "    '''\n",
    "    Receives PCA data train and test\n",
    "    '''\n",
    "    gamma = 1.0e-7\n",
    "    nus = np.arange(0.001, 1, step = 0.01)\n",
    "\n",
    "    df = pd.DataFrame(columns=[\"nu\", \"score\"])\n",
    "    for i, nu in enumerate(nus):\n",
    "        svm =  OneClassSVM(gamma = gamma, kernel = \"rbf\", nu = nu)\n",
    "        model = svm.fit(X)\n",
    "        results = model.predict(X)\n",
    "        score = results[results==1].shape[0]/results.shape[0] # true positives\n",
    "        df.loc[i] = {\"nu\": nu, \"score\": score}\n",
    "    \n",
    "    index = df[\"score\"].idxmax()\n",
    "    dfbest = df.iloc[index]\n",
    "    score = dfbest[\"score\"]\n",
    "    best_nu = dfbest[\"nu\"]\n",
    "    svm =  OneClassSVM(gamma = gamma, kernel = \"rbf\", nu = best_nu)\n",
    "    model = svm.fit(X)\n",
    "\n",
    "    return model, best_nu, score  "
   ]
  },
  {
   "cell_type": "code",
   "execution_count": 10,
   "metadata": {},
   "outputs": [],
   "source": [
    "def grid_search_svm(Xtrain, Xtest):\n",
    "    \n",
    "    '''\n",
    "    Receives PCA data train and test\n",
    "    '''\n",
    "    gamma = 1.0e-7\n",
    "    nus = np.arange(0.001, 1, step = 0.01)\n",
    "\n",
    "    df = pd.DataFrame(columns=[\"nu\", \"score\"])\n",
    "    for i, nu in enumerate(nus):\n",
    "        svm =  OneClassSVM(gamma = gamma, kernel = \"rbf\", nu = nu)\n",
    "        model = svm.fit(Xtrain)\n",
    "        results = model.predict(Xtest)\n",
    "        score = results[results==1].shape[0]/results.shape[0] # true positives\n",
    "        df.loc[i] = {\"nu\": nu, \"score\": score}\n",
    "    \n",
    "    index = df[\"score\"].idxmax()\n",
    "    dfbest = df.iloc[index]\n",
    "    score = dfbest[\"score\"]\n",
    "    best_nu = dfbest[\"nu\"]\n",
    "    svm =  OneClassSVM(gamma = gamma, kernel = \"rbf\", nu = best_nu)\n",
    "    model = svm.fit(Xtrain)\n",
    "\n",
    "    return model, best_nu, score  \n",
    "    "
   ]
  },
  {
   "cell_type": "markdown",
   "metadata": {},
   "source": [
    "### User x user"
   ]
  },
  {
   "cell_type": "markdown",
   "metadata": {},
   "source": [
    "##### 1) Data from template w/ 5 sessions"
   ]
  },
  {
   "cell_type": "code",
   "execution_count": null,
   "metadata": {},
   "outputs": [],
   "source": [
    "results = pd.DataFrame(columns=[\"id\", \"cmp\", \"tpl\", \"nu\", \"score\"])\n",
    "models = {}\n",
    "\n",
    "df_id = 0\n",
    "for path in pathfiles:\n",
    "    \n",
    "    df = pd.read_csv(path, index_col=0)    \n",
    "    id = np.unique(df[\"user_id\"].values)[0]\n",
    "\n",
    "    dfnorm = norm_data(df)\n",
    "\n",
    "    tpl = 1 # template number\n",
    "    templates = list()\n",
    "    for Xtrain in template_data(dfnorm):\n",
    "\n",
    "        n_m = Xtrain.shape[0]\n",
    "        max_c = 160 + 1\n",
    "        end_c = min(n_m, max_c)\n",
    "        n_components = np.arange(10, end_c)\n",
    "\n",
    "        tpl_score = 0.0\n",
    "        tpl_cmp = 0        \n",
    "        template = {}\n",
    "        for n_cmp in n_components:\n",
    "            pca = PCA(n_components = n_cmp)\n",
    "            Xpca = pca.fit_transform(Xtrain)\n",
    "            \n",
    "            model, nu, score = grid_search_svm_one(Xpca)\n",
    "            if score > tpl_score:                        \n",
    "                template = {\"tpl\": tpl, \"cmp\": n_cmp, \"model\": model}\n",
    "                tpl_score =  score\n",
    "\n",
    "            results.loc[df_id] = {\"id\": id, \"tpl\": tpl, \"cmp\": n_cmp,\n",
    "                                \"nu\": nu, \"score\": score}\n",
    "            df_id += 1    \n",
    "        templates.append(template)\n",
    "        tpl += 1    \n",
    "\n",
    "    models[id] = templates"
   ]
  },
  {
   "cell_type": "code",
   "execution_count": 92,
   "metadata": {},
   "outputs": [
    {
     "data": {
      "text/plain": [
       "array([ 1,  2,  3,  6,  7,  8,  9, 10, 11, 12, 13, 15, 17, 18, 19, 20, 24,\n",
       "       25, 26, 27, 40, 41, 42, 43, 44, 45, 47, 48, 49, 50, 51, 52, 53, 54,\n",
       "       55, 56, 57, 58, 61, 62, 63, 64, 65, 66, 67, 68, 69, 70, 71, 72, 73,\n",
       "       74])"
      ]
     },
     "execution_count": 92,
     "metadata": {},
     "output_type": "execute_result"
    }
   ],
   "source": [
    "np.unique(results[\"id\"].values)"
   ]
  },
  {
   "cell_type": "code",
   "execution_count": 93,
   "metadata": {},
   "outputs": [
    {
     "data": {
      "text/plain": [
       "<pandas.core.groupby.generic.DataFrameGroupBy object at 0x7f232bc84340>"
      ]
     },
     "execution_count": 93,
     "metadata": {},
     "output_type": "execute_result"
    }
   ],
   "source": [
    "group_results = results.groupby([\"id\", \"tpl\"])\n",
    "group_results"
   ]
  },
  {
   "cell_type": "code",
   "execution_count": 94,
   "metadata": {},
   "outputs": [],
   "source": [
    "indxmax =  group_results[\"score\"].idxmax()"
   ]
  },
  {
   "cell_type": "code",
   "execution_count": 95,
   "metadata": {},
   "outputs": [
    {
     "data": {
      "text/html": [
       "<div>\n",
       "<style scoped>\n",
       "    .dataframe tbody tr th:only-of-type {\n",
       "        vertical-align: middle;\n",
       "    }\n",
       "\n",
       "    .dataframe tbody tr th {\n",
       "        vertical-align: top;\n",
       "    }\n",
       "\n",
       "    .dataframe thead th {\n",
       "        text-align: right;\n",
       "    }\n",
       "</style>\n",
       "<table border=\"1\" class=\"dataframe\">\n",
       "  <thead>\n",
       "    <tr style=\"text-align: right;\">\n",
       "      <th></th>\n",
       "      <th>id</th>\n",
       "      <th>cmp</th>\n",
       "      <th>tpl</th>\n",
       "      <th>nu</th>\n",
       "      <th>score</th>\n",
       "    </tr>\n",
       "  </thead>\n",
       "  <tbody>\n",
       "    <tr>\n",
       "      <th>1523</th>\n",
       "      <td>1</td>\n",
       "      <td>10</td>\n",
       "      <td>1</td>\n",
       "      <td>0.581</td>\n",
       "      <td>1.000000</td>\n",
       "    </tr>\n",
       "    <tr>\n",
       "      <th>1539</th>\n",
       "      <td>1</td>\n",
       "      <td>10</td>\n",
       "      <td>2</td>\n",
       "      <td>0.411</td>\n",
       "      <td>1.000000</td>\n",
       "    </tr>\n",
       "    <tr>\n",
       "      <th>1676</th>\n",
       "      <td>2</td>\n",
       "      <td>10</td>\n",
       "      <td>1</td>\n",
       "      <td>0.521</td>\n",
       "      <td>0.945946</td>\n",
       "    </tr>\n",
       "    <tr>\n",
       "      <th>1703</th>\n",
       "      <td>2</td>\n",
       "      <td>10</td>\n",
       "      <td>2</td>\n",
       "      <td>0.361</td>\n",
       "      <td>0.911765</td>\n",
       "    </tr>\n",
       "    <tr>\n",
       "      <th>904</th>\n",
       "      <td>3</td>\n",
       "      <td>10</td>\n",
       "      <td>1</td>\n",
       "      <td>0.031</td>\n",
       "      <td>0.970588</td>\n",
       "    </tr>\n",
       "  </tbody>\n",
       "</table>\n",
       "</div>"
      ],
      "text/plain": [
       "      id  cmp  tpl     nu     score\n",
       "1523   1   10    1  0.581  1.000000\n",
       "1539   1   10    2  0.411  1.000000\n",
       "1676   2   10    1  0.521  0.945946\n",
       "1703   2   10    2  0.361  0.911765\n",
       "904    3   10    1  0.031  0.970588"
      ]
     },
     "execution_count": 95,
     "metadata": {},
     "output_type": "execute_result"
    }
   ],
   "source": [
    "best_results = results.iloc[indxmax]\n",
    "best_results.head(5)"
   ]
  },
  {
   "cell_type": "code",
   "execution_count": 96,
   "metadata": {},
   "outputs": [
    {
     "data": {
      "text/plain": [
       "(10, 22)"
      ]
     },
     "execution_count": 96,
     "metadata": {},
     "output_type": "execute_result"
    }
   ],
   "source": [
    "best_results[\"cmp\"].min(), best_results[\"cmp\"].max()"
   ]
  },
  {
   "cell_type": "code",
   "execution_count": 97,
   "metadata": {},
   "outputs": [
    {
     "data": {
      "text/plain": [
       "(1.0, 0.0)"
      ]
     },
     "execution_count": 97,
     "metadata": {},
     "output_type": "execute_result"
    }
   ],
   "source": [
    "# It's not a real scenario. Overfitting data\n",
    "THRESHOLD = 0.5\n",
    "TP = best_results[best_results['score']>THRESHOLD].shape[0]/best_results.shape[0]\n",
    "FN = 1 - TP\n",
    "TP, FN"
   ]
  },
  {
   "cell_type": "code",
   "execution_count": 98,
   "metadata": {},
   "outputs": [
    {
     "data": {
      "text/html": [
       "<div>\n",
       "<style scoped>\n",
       "    .dataframe tbody tr th:only-of-type {\n",
       "        vertical-align: middle;\n",
       "    }\n",
       "\n",
       "    .dataframe tbody tr th {\n",
       "        vertical-align: top;\n",
       "    }\n",
       "\n",
       "    .dataframe thead th {\n",
       "        text-align: right;\n",
       "    }\n",
       "</style>\n",
       "<table border=\"1\" class=\"dataframe\">\n",
       "  <thead>\n",
       "    <tr style=\"text-align: right;\">\n",
       "      <th></th>\n",
       "      <th>id</th>\n",
       "      <th>cmp</th>\n",
       "      <th>tpl</th>\n",
       "      <th>nu</th>\n",
       "      <th>score</th>\n",
       "    </tr>\n",
       "  </thead>\n",
       "  <tbody>\n",
       "    <tr>\n",
       "      <th>1523</th>\n",
       "      <td>1</td>\n",
       "      <td>10</td>\n",
       "      <td>1</td>\n",
       "      <td>0.581</td>\n",
       "      <td>1.000000</td>\n",
       "    </tr>\n",
       "    <tr>\n",
       "      <th>1539</th>\n",
       "      <td>1</td>\n",
       "      <td>10</td>\n",
       "      <td>2</td>\n",
       "      <td>0.411</td>\n",
       "      <td>1.000000</td>\n",
       "    </tr>\n",
       "    <tr>\n",
       "      <th>1676</th>\n",
       "      <td>2</td>\n",
       "      <td>10</td>\n",
       "      <td>1</td>\n",
       "      <td>0.521</td>\n",
       "      <td>0.945946</td>\n",
       "    </tr>\n",
       "  </tbody>\n",
       "</table>\n",
       "</div>"
      ],
      "text/plain": [
       "      id  cmp  tpl     nu     score\n",
       "1523   1   10    1  0.581  1.000000\n",
       "1539   1   10    2  0.411  1.000000\n",
       "1676   2   10    1  0.521  0.945946"
      ]
     },
     "execution_count": 98,
     "metadata": {},
     "output_type": "execute_result"
    }
   ],
   "source": [
    "best_results.head(3)"
   ]
  },
  {
   "cell_type": "code",
   "execution_count": 99,
   "metadata": {},
   "outputs": [
    {
     "data": {
      "text/plain": [
       "[{'tpl': 1, 'cmp': 10, 'model': OneClassSVM(gamma=1e-07, nu=0.581)},\n",
       " {'tpl': 2,\n",
       "  'cmp': 10,\n",
       "  'model': OneClassSVM(gamma=1e-07, nu=0.4109999999999999)}]"
      ]
     },
     "execution_count": 99,
     "metadata": {},
     "output_type": "execute_result"
    }
   ],
   "source": [
    "models[1]"
   ]
  },
  {
   "cell_type": "markdown",
   "metadata": {},
   "source": [
    "##### 2) Scenario: Real authentication"
   ]
  },
  {
   "cell_type": "code",
   "execution_count": null,
   "metadata": {},
   "outputs": [],
   "source": [
    "auth_results = pd.DataFrame(columns=[\"id\", \"cmp\", \"tpl\", \"score\"])\n",
    "\n",
    "j = 0\n",
    "for path in pathfiles:\n",
    "    \n",
    "    df = pd.read_csv(path, index_col=0)    \n",
    "    id = np.unique(df[\"user_id\"].values)[0]    \n",
    "    dic_model = models[id]\n",
    "    dfnorm = norm_data(df)   \n",
    "    \n",
    "    i = 0\n",
    "    for Xtrain, Xtest in split_train_test(dfnorm):        \n",
    "\n",
    "        tpl = i + 1\n",
    "        n_cmp = dic_model[i]['cmp']\n",
    "        model = dic_model[i]['model']\n",
    "\n",
    "        _ , Xtest_pca = pca_data(Xtrain, Xtest, n_cmp)\n",
    "        \n",
    "        results = model.predict(Xtest_pca)\n",
    "        score = results[results==1].shape[0]/results.shape[0] # true positives\n",
    "        auth_results.loc[j] = {\"id\": id, \"tpl\": tpl,\n",
    "                               \"cmp\": n_cmp, \"score\": score}         \n",
    "        i += 1\n",
    "        j += 1\n",
    "   "
   ]
  },
  {
   "cell_type": "markdown",
   "metadata": {},
   "source": [
    "True Positives\n",
    "False Negatives"
   ]
  },
  {
   "cell_type": "code",
   "execution_count": 122,
   "metadata": {},
   "outputs": [
    {
     "data": {
      "text/plain": [
       "(0.9519230769230769, 0.04807692307692313)"
      ]
     },
     "execution_count": 122,
     "metadata": {},
     "output_type": "execute_result"
    }
   ],
   "source": [
    "THRESHOLD = 0.5\n",
    "TP = auth_results[auth_results['score']>THRESHOLD].shape[0]/auth_results.shape[0]\n",
    "FN = 1 - TP\n",
    "TP, FN"
   ]
  },
  {
   "cell_type": "code",
   "execution_count": 123,
   "metadata": {},
   "outputs": [],
   "source": [
    "auth_results.to_csv('swipe_userxuser.csv')"
   ]
  },
  {
   "cell_type": "markdown",
   "metadata": {},
   "source": [
    "##### 1) All x user by all sections"
   ]
  },
  {
   "cell_type": "code",
   "execution_count": null,
   "metadata": {},
   "outputs": [],
   "source": [
    "results_all = pd.DataFrame(columns=[\"id\", \"id_attack\", \"tpl\", \n",
    "                                    \"section\", \"tn\", \"sz\"])\n",
    "\n",
    "df_id = 0\n",
    "for path in pathfiles:    \n",
    "    \n",
    "    df = pd.read_csv(path, index_col=0)\n",
    "    id = np.unique(df[\"user_id\"].values)[0]\n",
    "    dic_model = models[id]\n",
    "    dfnorm = norm_data(df)\n",
    "\n",
    "    npfiles = np.array(pathfiles)\n",
    "    npfiles_attack = npfiles[npfiles != path]\n",
    "\n",
    "    # two template's scenarios\n",
    "    for t, Xuser in enumerate(template_data(dfnorm)):\n",
    "\n",
    "        tpl = t + 1\n",
    "        n_cmp = dic_model[t]['cmp']\n",
    "        model = dic_model[t]['model']\n",
    "    \n",
    "        for file_attack in npfiles_attack:\n",
    "\n",
    "            df_attack = pd.read_csv(file_attack, index_col=0)\n",
    "            id_attack = np.unique(df_attack[\"user_id\"].values)[0]\n",
    "            dfnorm_attack = norm_data(df_attack)\n",
    "\n",
    "            for s, Xattack in enumerate(session_attack_data(dfnorm_attack)):\n",
    "\n",
    "                section = s + 1\n",
    "                Xattacknorm = Xattack.iloc[:,3:]\n",
    "                _ , Xattack_pca = pca_data(Xuser, Xattacknorm, n_cmp)                                  \n",
    "                \n",
    "                results = model.predict(Xattack_pca)\n",
    "                sz = results.shape[0]\n",
    "                tn = results[results==-1].shape[0] # true negative\n",
    "\n",
    "                results_all.loc[df_id] = {\"id\": id, \n",
    "                                        \"id_attack\": id_attack,\n",
    "                                        \"tpl\": tpl, \n",
    "                                        \"section\": section,\n",
    "                                        \"tn\": tn,\n",
    "                                        \"sz\": sz}\n",
    "                df_id += 1"
   ]
  },
  {
   "cell_type": "code",
   "execution_count": null,
   "metadata": {},
   "outputs": [],
   "source": [
    "df = pd.read_csv(path, index_col=0)\n",
    "id = np.unique(df[\"user_id\"].values)[0]\n",
    "dic_model = models[id]\n",
    "dfnorm = norm_data(df)\n",
    "\n",
    "npfiles = np.array(pathfiles)\n",
    "npfiles_attack = npfiles[npfiles != path]"
   ]
  },
  {
   "cell_type": "code",
   "execution_count": 180,
   "metadata": {},
   "outputs": [],
   "source": [
    "file_attack = npfiles_attack[0]"
   ]
  },
  {
   "cell_type": "code",
   "execution_count": 181,
   "metadata": {},
   "outputs": [
    {
     "name": "stderr",
     "output_type": "stream",
     "text": [
      "/tmp/ipykernel_356738/4144749539.py:7: PerformanceWarning: DataFrame is highly fragmented.  This is usually the result of calling `frame.insert` many times, which has poor performance.  Consider joining all columns at once using pd.concat(axis=1) instead. To get a de-fragmented frame, use `newframe = frame.copy()`\n",
      "  Xn[\"user_id\"] = X[\"user_id\"]\n",
      "/tmp/ipykernel_356738/4144749539.py:8: PerformanceWarning: DataFrame is highly fragmented.  This is usually the result of calling `frame.insert` many times, which has poor performance.  Consider joining all columns at once using pd.concat(axis=1) instead. To get a de-fragmented frame, use `newframe = frame.copy()`\n",
      "  Xn[\"swipe_number\"] = X[\"swipe_number\"]\n",
      "/tmp/ipykernel_356738/4144749539.py:9: PerformanceWarning: DataFrame is highly fragmented.  This is usually the result of calling `frame.insert` many times, which has poor performance.  Consider joining all columns at once using pd.concat(axis=1) instead. To get a de-fragmented frame, use `newframe = frame.copy()`\n",
      "  Xn[\"action_number\"] = X[\"action_number\"]\n"
     ]
    }
   ],
   "source": [
    "df_attack = pd.read_csv(file_attack, index_col=0)\n",
    "id_attack = np.unique(df_attack[\"user_id\"].values)[0]\n",
    "dfnorm_attack = norm_data(df_attack)"
   ]
  },
  {
   "cell_type": "code",
   "execution_count": 143,
   "metadata": {},
   "outputs": [],
   "source": [
    "t = 0\n",
    "Xuser = next(template_data(dfnorm))"
   ]
  },
  {
   "cell_type": "code",
   "execution_count": null,
   "metadata": {},
   "outputs": [],
   "source": [
    "tpl = t + 1\n",
    "n_cmp = dic_model[t]['cmp']\n",
    "model = dic_model[t]['model']"
   ]
  },
  {
   "cell_type": "code",
   "execution_count": 155,
   "metadata": {},
   "outputs": [
    {
     "data": {
      "text/html": [
       "<div>\n",
       "<style scoped>\n",
       "    .dataframe tbody tr th:only-of-type {\n",
       "        vertical-align: middle;\n",
       "    }\n",
       "\n",
       "    .dataframe tbody tr th {\n",
       "        vertical-align: top;\n",
       "    }\n",
       "\n",
       "    .dataframe thead th {\n",
       "        text-align: right;\n",
       "    }\n",
       "</style>\n",
       "<table border=\"1\" class=\"dataframe\">\n",
       "  <thead>\n",
       "    <tr style=\"text-align: right;\">\n",
       "      <th></th>\n",
       "      <th>user_id</th>\n",
       "      <th>action_number</th>\n",
       "      <th>swipe_number</th>\n",
       "      <th>ps_fs</th>\n",
       "      <th>ps_ls</th>\n",
       "      <th>ps_md</th>\n",
       "      <th>ps_fq</th>\n",
       "      <th>ps_tq</th>\n",
       "      <th>ps_ir</th>\n",
       "      <th>ps_am</th>\n",
       "      <th>...</th>\n",
       "      <th>ay_rg</th>\n",
       "      <th>ay_sk</th>\n",
       "      <th>ay_ku</th>\n",
       "      <th>dp_mg</th>\n",
       "      <th>dp_ec</th>\n",
       "      <th>dp_ang</th>\n",
       "      <th>dp_avang</th>\n",
       "      <th>dp_ra</th>\n",
       "      <th>tm_dr</th>\n",
       "      <th>tm_fl</th>\n",
       "    </tr>\n",
       "  </thead>\n",
       "  <tbody>\n",
       "    <tr>\n",
       "      <th>1</th>\n",
       "      <td>49</td>\n",
       "      <td>1</td>\n",
       "      <td>1</td>\n",
       "      <td>0.072527</td>\n",
       "      <td>0.035653</td>\n",
       "      <td>0.086935</td>\n",
       "      <td>0.074359</td>\n",
       "      <td>0.096398</td>\n",
       "      <td>0.022039</td>\n",
       "      <td>0.081258</td>\n",
       "      <td>...</td>\n",
       "      <td>0.404341</td>\n",
       "      <td>3.519046</td>\n",
       "      <td>11.718555</td>\n",
       "      <td>1887.187007</td>\n",
       "      <td>607.896373</td>\n",
       "      <td>0.340479</td>\n",
       "      <td>0.000000</td>\n",
       "      <td>0.322118</td>\n",
       "      <td>9</td>\n",
       "      <td>0</td>\n",
       "    </tr>\n",
       "    <tr>\n",
       "      <th>2</th>\n",
       "      <td>49</td>\n",
       "      <td>1</td>\n",
       "      <td>2</td>\n",
       "      <td>0.075702</td>\n",
       "      <td>0.040293</td>\n",
       "      <td>0.092308</td>\n",
       "      <td>0.078388</td>\n",
       "      <td>0.095238</td>\n",
       "      <td>0.016850</td>\n",
       "      <td>0.084284</td>\n",
       "      <td>...</td>\n",
       "      <td>0.224731</td>\n",
       "      <td>2.308413</td>\n",
       "      <td>5.404416</td>\n",
       "      <td>1995.637092</td>\n",
       "      <td>516.705912</td>\n",
       "      <td>0.437679</td>\n",
       "      <td>0.000000</td>\n",
       "      <td>0.258918</td>\n",
       "      <td>8</td>\n",
       "      <td>0</td>\n",
       "    </tr>\n",
       "    <tr>\n",
       "      <th>3</th>\n",
       "      <td>49</td>\n",
       "      <td>1</td>\n",
       "      <td>3</td>\n",
       "      <td>0.072772</td>\n",
       "      <td>0.024908</td>\n",
       "      <td>0.088645</td>\n",
       "      <td>0.080586</td>\n",
       "      <td>0.096581</td>\n",
       "      <td>0.015995</td>\n",
       "      <td>0.084232</td>\n",
       "      <td>...</td>\n",
       "      <td>0.125529</td>\n",
       "      <td>2.914169</td>\n",
       "      <td>7.909749</td>\n",
       "      <td>2550.352277</td>\n",
       "      <td>424.925876</td>\n",
       "      <td>0.414162</td>\n",
       "      <td>-0.360919</td>\n",
       "      <td>0.166615</td>\n",
       "      <td>15</td>\n",
       "      <td>0</td>\n",
       "    </tr>\n",
       "    <tr>\n",
       "      <th>4</th>\n",
       "      <td>49</td>\n",
       "      <td>1</td>\n",
       "      <td>4</td>\n",
       "      <td>0.072772</td>\n",
       "      <td>0.031746</td>\n",
       "      <td>0.031746</td>\n",
       "      <td>0.031746</td>\n",
       "      <td>0.052259</td>\n",
       "      <td>0.020513</td>\n",
       "      <td>0.045421</td>\n",
       "      <td>...</td>\n",
       "      <td>0.000000</td>\n",
       "      <td>0.000000</td>\n",
       "      <td>0.000000</td>\n",
       "      <td>1064.658161</td>\n",
       "      <td>1.000000</td>\n",
       "      <td>0.000000</td>\n",
       "      <td>0.000000</td>\n",
       "      <td>0.000939</td>\n",
       "      <td>16</td>\n",
       "      <td>0</td>\n",
       "    </tr>\n",
       "    <tr>\n",
       "      <th>5</th>\n",
       "      <td>49</td>\n",
       "      <td>1</td>\n",
       "      <td>5</td>\n",
       "      <td>0.059585</td>\n",
       "      <td>0.025397</td>\n",
       "      <td>0.081074</td>\n",
       "      <td>0.073382</td>\n",
       "      <td>0.093162</td>\n",
       "      <td>0.019780</td>\n",
       "      <td>0.078008</td>\n",
       "      <td>...</td>\n",
       "      <td>0.249969</td>\n",
       "      <td>1.516548</td>\n",
       "      <td>0.978127</td>\n",
       "      <td>2143.052870</td>\n",
       "      <td>643.580609</td>\n",
       "      <td>0.502571</td>\n",
       "      <td>0.000000</td>\n",
       "      <td>0.300310</td>\n",
       "      <td>16</td>\n",
       "      <td>0</td>\n",
       "    </tr>\n",
       "    <tr>\n",
       "      <th>6</th>\n",
       "      <td>49</td>\n",
       "      <td>1</td>\n",
       "      <td>6</td>\n",
       "      <td>0.073993</td>\n",
       "      <td>0.023199</td>\n",
       "      <td>0.048596</td>\n",
       "      <td>0.035897</td>\n",
       "      <td>0.061294</td>\n",
       "      <td>0.025397</td>\n",
       "      <td>0.048596</td>\n",
       "      <td>...</td>\n",
       "      <td>0.000000</td>\n",
       "      <td>0.000000</td>\n",
       "      <td>0.000000</td>\n",
       "      <td>789.361768</td>\n",
       "      <td>0.000000</td>\n",
       "      <td>0.000000</td>\n",
       "      <td>0.000000</td>\n",
       "      <td>0.000000</td>\n",
       "      <td>81</td>\n",
       "      <td>0</td>\n",
       "    </tr>\n",
       "    <tr>\n",
       "      <th>7</th>\n",
       "      <td>49</td>\n",
       "      <td>1</td>\n",
       "      <td>38</td>\n",
       "      <td>0.072527</td>\n",
       "      <td>0.035653</td>\n",
       "      <td>0.086935</td>\n",
       "      <td>0.074359</td>\n",
       "      <td>0.096398</td>\n",
       "      <td>0.022039</td>\n",
       "      <td>0.081258</td>\n",
       "      <td>...</td>\n",
       "      <td>0.404341</td>\n",
       "      <td>3.519046</td>\n",
       "      <td>11.718555</td>\n",
       "      <td>1887.187007</td>\n",
       "      <td>607.896373</td>\n",
       "      <td>0.340479</td>\n",
       "      <td>0.000000</td>\n",
       "      <td>0.322118</td>\n",
       "      <td>9</td>\n",
       "      <td>0</td>\n",
       "    </tr>\n",
       "    <tr>\n",
       "      <th>8</th>\n",
       "      <td>49</td>\n",
       "      <td>1</td>\n",
       "      <td>39</td>\n",
       "      <td>0.075702</td>\n",
       "      <td>0.040293</td>\n",
       "      <td>0.092308</td>\n",
       "      <td>0.078388</td>\n",
       "      <td>0.095238</td>\n",
       "      <td>0.016850</td>\n",
       "      <td>0.084284</td>\n",
       "      <td>...</td>\n",
       "      <td>0.224731</td>\n",
       "      <td>2.308413</td>\n",
       "      <td>5.404416</td>\n",
       "      <td>1995.637092</td>\n",
       "      <td>516.705912</td>\n",
       "      <td>0.437679</td>\n",
       "      <td>0.000000</td>\n",
       "      <td>0.258918</td>\n",
       "      <td>8</td>\n",
       "      <td>0</td>\n",
       "    </tr>\n",
       "    <tr>\n",
       "      <th>9</th>\n",
       "      <td>49</td>\n",
       "      <td>1</td>\n",
       "      <td>40</td>\n",
       "      <td>0.072772</td>\n",
       "      <td>0.024908</td>\n",
       "      <td>0.088645</td>\n",
       "      <td>0.080586</td>\n",
       "      <td>0.096581</td>\n",
       "      <td>0.015995</td>\n",
       "      <td>0.084232</td>\n",
       "      <td>...</td>\n",
       "      <td>0.125529</td>\n",
       "      <td>2.914169</td>\n",
       "      <td>7.909749</td>\n",
       "      <td>2550.352277</td>\n",
       "      <td>424.925876</td>\n",
       "      <td>0.414162</td>\n",
       "      <td>-0.360919</td>\n",
       "      <td>0.166615</td>\n",
       "      <td>15</td>\n",
       "      <td>0</td>\n",
       "    </tr>\n",
       "    <tr>\n",
       "      <th>10</th>\n",
       "      <td>49</td>\n",
       "      <td>1</td>\n",
       "      <td>41</td>\n",
       "      <td>0.072772</td>\n",
       "      <td>0.031746</td>\n",
       "      <td>0.031746</td>\n",
       "      <td>0.031746</td>\n",
       "      <td>0.052259</td>\n",
       "      <td>0.020513</td>\n",
       "      <td>0.045421</td>\n",
       "      <td>...</td>\n",
       "      <td>0.000000</td>\n",
       "      <td>0.000000</td>\n",
       "      <td>0.000000</td>\n",
       "      <td>1064.658161</td>\n",
       "      <td>1.000000</td>\n",
       "      <td>0.000000</td>\n",
       "      <td>0.000000</td>\n",
       "      <td>0.000939</td>\n",
       "      <td>16</td>\n",
       "      <td>0</td>\n",
       "    </tr>\n",
       "    <tr>\n",
       "      <th>11</th>\n",
       "      <td>49</td>\n",
       "      <td>1</td>\n",
       "      <td>42</td>\n",
       "      <td>0.059585</td>\n",
       "      <td>0.025397</td>\n",
       "      <td>0.081074</td>\n",
       "      <td>0.073382</td>\n",
       "      <td>0.093162</td>\n",
       "      <td>0.019780</td>\n",
       "      <td>0.078008</td>\n",
       "      <td>...</td>\n",
       "      <td>0.249969</td>\n",
       "      <td>1.516548</td>\n",
       "      <td>0.978127</td>\n",
       "      <td>2143.052870</td>\n",
       "      <td>643.580609</td>\n",
       "      <td>0.502571</td>\n",
       "      <td>0.000000</td>\n",
       "      <td>0.300310</td>\n",
       "      <td>16</td>\n",
       "      <td>0</td>\n",
       "    </tr>\n",
       "    <tr>\n",
       "      <th>12</th>\n",
       "      <td>49</td>\n",
       "      <td>1</td>\n",
       "      <td>43</td>\n",
       "      <td>0.073993</td>\n",
       "      <td>0.023199</td>\n",
       "      <td>0.048596</td>\n",
       "      <td>0.035897</td>\n",
       "      <td>0.061294</td>\n",
       "      <td>0.025397</td>\n",
       "      <td>0.048596</td>\n",
       "      <td>...</td>\n",
       "      <td>0.000000</td>\n",
       "      <td>0.000000</td>\n",
       "      <td>0.000000</td>\n",
       "      <td>789.361768</td>\n",
       "      <td>0.000000</td>\n",
       "      <td>0.000000</td>\n",
       "      <td>0.000000</td>\n",
       "      <td>0.000000</td>\n",
       "      <td>81</td>\n",
       "      <td>0</td>\n",
       "    </tr>\n",
       "  </tbody>\n",
       "</table>\n",
       "<p>12 rows × 283 columns</p>\n",
       "</div>"
      ],
      "text/plain": [
       "    user_id  action_number  swipe_number     ps_fs     ps_ls     ps_md  \\\n",
       "1        49              1             1  0.072527  0.035653  0.086935   \n",
       "2        49              1             2  0.075702  0.040293  0.092308   \n",
       "3        49              1             3  0.072772  0.024908  0.088645   \n",
       "4        49              1             4  0.072772  0.031746  0.031746   \n",
       "5        49              1             5  0.059585  0.025397  0.081074   \n",
       "6        49              1             6  0.073993  0.023199  0.048596   \n",
       "7        49              1            38  0.072527  0.035653  0.086935   \n",
       "8        49              1            39  0.075702  0.040293  0.092308   \n",
       "9        49              1            40  0.072772  0.024908  0.088645   \n",
       "10       49              1            41  0.072772  0.031746  0.031746   \n",
       "11       49              1            42  0.059585  0.025397  0.081074   \n",
       "12       49              1            43  0.073993  0.023199  0.048596   \n",
       "\n",
       "       ps_fq     ps_tq     ps_ir     ps_am  ...     ay_rg     ay_sk  \\\n",
       "1   0.074359  0.096398  0.022039  0.081258  ...  0.404341  3.519046   \n",
       "2   0.078388  0.095238  0.016850  0.084284  ...  0.224731  2.308413   \n",
       "3   0.080586  0.096581  0.015995  0.084232  ...  0.125529  2.914169   \n",
       "4   0.031746  0.052259  0.020513  0.045421  ...  0.000000  0.000000   \n",
       "5   0.073382  0.093162  0.019780  0.078008  ...  0.249969  1.516548   \n",
       "6   0.035897  0.061294  0.025397  0.048596  ...  0.000000  0.000000   \n",
       "7   0.074359  0.096398  0.022039  0.081258  ...  0.404341  3.519046   \n",
       "8   0.078388  0.095238  0.016850  0.084284  ...  0.224731  2.308413   \n",
       "9   0.080586  0.096581  0.015995  0.084232  ...  0.125529  2.914169   \n",
       "10  0.031746  0.052259  0.020513  0.045421  ...  0.000000  0.000000   \n",
       "11  0.073382  0.093162  0.019780  0.078008  ...  0.249969  1.516548   \n",
       "12  0.035897  0.061294  0.025397  0.048596  ...  0.000000  0.000000   \n",
       "\n",
       "        ay_ku        dp_mg       dp_ec    dp_ang  dp_avang     dp_ra  tm_dr  \\\n",
       "1   11.718555  1887.187007  607.896373  0.340479  0.000000  0.322118      9   \n",
       "2    5.404416  1995.637092  516.705912  0.437679  0.000000  0.258918      8   \n",
       "3    7.909749  2550.352277  424.925876  0.414162 -0.360919  0.166615     15   \n",
       "4    0.000000  1064.658161    1.000000  0.000000  0.000000  0.000939     16   \n",
       "5    0.978127  2143.052870  643.580609  0.502571  0.000000  0.300310     16   \n",
       "6    0.000000   789.361768    0.000000  0.000000  0.000000  0.000000     81   \n",
       "7   11.718555  1887.187007  607.896373  0.340479  0.000000  0.322118      9   \n",
       "8    5.404416  1995.637092  516.705912  0.437679  0.000000  0.258918      8   \n",
       "9    7.909749  2550.352277  424.925876  0.414162 -0.360919  0.166615     15   \n",
       "10   0.000000  1064.658161    1.000000  0.000000  0.000000  0.000939     16   \n",
       "11   0.978127  2143.052870  643.580609  0.502571  0.000000  0.300310     16   \n",
       "12   0.000000   789.361768    0.000000  0.000000  0.000000  0.000000     81   \n",
       "\n",
       "    tm_fl  \n",
       "1       0  \n",
       "2       0  \n",
       "3       0  \n",
       "4       0  \n",
       "5       0  \n",
       "6       0  \n",
       "7       0  \n",
       "8       0  \n",
       "9       0  \n",
       "10      0  \n",
       "11      0  \n",
       "12      0  \n",
       "\n",
       "[12 rows x 283 columns]"
      ]
     },
     "execution_count": 155,
     "metadata": {},
     "output_type": "execute_result"
    }
   ],
   "source": [
    "df_attack[df_attack.action_number == 1]"
   ]
  },
  {
   "cell_type": "code",
   "execution_count": 150,
   "metadata": {},
   "outputs": [],
   "source": [
    "s = 0\n",
    "Xattack = next(session_attack_data(dfnorm_attack))"
   ]
  },
  {
   "cell_type": "code",
   "execution_count": 154,
   "metadata": {},
   "outputs": [
    {
     "data": {
      "text/html": [
       "<div>\n",
       "<style scoped>\n",
       "    .dataframe tbody tr th:only-of-type {\n",
       "        vertical-align: middle;\n",
       "    }\n",
       "\n",
       "    .dataframe tbody tr th {\n",
       "        vertical-align: top;\n",
       "    }\n",
       "\n",
       "    .dataframe thead th {\n",
       "        text-align: right;\n",
       "    }\n",
       "</style>\n",
       "<table border=\"1\" class=\"dataframe\">\n",
       "  <thead>\n",
       "    <tr style=\"text-align: right;\">\n",
       "      <th></th>\n",
       "      <th>user_id</th>\n",
       "      <th>swipe_number</th>\n",
       "      <th>action_number</th>\n",
       "      <th>ps_fs</th>\n",
       "      <th>ps_ls</th>\n",
       "      <th>ps_md</th>\n",
       "      <th>ps_fq</th>\n",
       "      <th>ps_tq</th>\n",
       "      <th>ps_ir</th>\n",
       "      <th>ps_am</th>\n",
       "      <th>...</th>\n",
       "      <th>ay_rg</th>\n",
       "      <th>ay_sk</th>\n",
       "      <th>ay_ku</th>\n",
       "      <th>dp_mg</th>\n",
       "      <th>dp_ec</th>\n",
       "      <th>dp_ang</th>\n",
       "      <th>dp_avang</th>\n",
       "      <th>dp_ra</th>\n",
       "      <th>tm_dr</th>\n",
       "      <th>tm_fl</th>\n",
       "    </tr>\n",
       "  </thead>\n",
       "  <tbody>\n",
       "    <tr>\n",
       "      <th>1</th>\n",
       "      <td>49</td>\n",
       "      <td>1</td>\n",
       "      <td>1</td>\n",
       "      <td>-0.497697</td>\n",
       "      <td>-0.150163</td>\n",
       "      <td>1.705109</td>\n",
       "      <td>1.680542</td>\n",
       "      <td>2.079918</td>\n",
       "      <td>0.212534</td>\n",
       "      <td>1.835615</td>\n",
       "      <td>...</td>\n",
       "      <td>1.525148</td>\n",
       "      <td>2.951563</td>\n",
       "      <td>3.479965</td>\n",
       "      <td>1.936041</td>\n",
       "      <td>1.525207</td>\n",
       "      <td>0.596956</td>\n",
       "      <td>0.060553</td>\n",
       "      <td>-0.038805</td>\n",
       "      <td>-0.604132</td>\n",
       "      <td>0.0</td>\n",
       "    </tr>\n",
       "    <tr>\n",
       "      <th>2</th>\n",
       "      <td>49</td>\n",
       "      <td>2</td>\n",
       "      <td>1</td>\n",
       "      <td>-0.060850</td>\n",
       "      <td>0.251223</td>\n",
       "      <td>1.988684</td>\n",
       "      <td>1.939380</td>\n",
       "      <td>1.993322</td>\n",
       "      <td>-0.436415</td>\n",
       "      <td>2.086738</td>\n",
       "      <td>...</td>\n",
       "      <td>0.676348</td>\n",
       "      <td>1.906834</td>\n",
       "      <td>1.594544</td>\n",
       "      <td>2.146136</td>\n",
       "      <td>1.139595</td>\n",
       "      <td>0.848418</td>\n",
       "      <td>0.060553</td>\n",
       "      <td>-0.215616</td>\n",
       "      <td>-0.639953</td>\n",
       "      <td>0.0</td>\n",
       "    </tr>\n",
       "    <tr>\n",
       "      <th>3</th>\n",
       "      <td>49</td>\n",
       "      <td>3</td>\n",
       "      <td>1</td>\n",
       "      <td>-0.464093</td>\n",
       "      <td>-1.079687</td>\n",
       "      <td>1.795337</td>\n",
       "      <td>2.080565</td>\n",
       "      <td>2.093591</td>\n",
       "      <td>-0.543300</td>\n",
       "      <td>2.082395</td>\n",
       "      <td>...</td>\n",
       "      <td>0.207538</td>\n",
       "      <td>2.429577</td>\n",
       "      <td>2.342644</td>\n",
       "      <td>3.220761</td>\n",
       "      <td>0.751489</td>\n",
       "      <td>0.787578</td>\n",
       "      <td>-5.190404</td>\n",
       "      <td>-0.473848</td>\n",
       "      <td>-0.389200</td>\n",
       "      <td>0.0</td>\n",
       "    </tr>\n",
       "    <tr>\n",
       "      <th>4</th>\n",
       "      <td>49</td>\n",
       "      <td>4</td>\n",
       "      <td>1</td>\n",
       "      <td>-0.464093</td>\n",
       "      <td>-0.488172</td>\n",
       "      <td>-1.207981</td>\n",
       "      <td>-1.056871</td>\n",
       "      <td>-1.215308</td>\n",
       "      <td>0.021666</td>\n",
       "      <td>-1.138057</td>\n",
       "      <td>...</td>\n",
       "      <td>-0.385687</td>\n",
       "      <td>-0.085234</td>\n",
       "      <td>-0.019232</td>\n",
       "      <td>0.342593</td>\n",
       "      <td>-1.041144</td>\n",
       "      <td>-0.283877</td>\n",
       "      <td>0.060553</td>\n",
       "      <td>-0.937349</td>\n",
       "      <td>-0.353378</td>\n",
       "      <td>0.0</td>\n",
       "    </tr>\n",
       "    <tr>\n",
       "      <th>5</th>\n",
       "      <td>49</td>\n",
       "      <td>5</td>\n",
       "      <td>1</td>\n",
       "      <td>-2.278689</td>\n",
       "      <td>-1.037436</td>\n",
       "      <td>1.395754</td>\n",
       "      <td>1.617793</td>\n",
       "      <td>1.838359</td>\n",
       "      <td>-0.069950</td>\n",
       "      <td>1.565997</td>\n",
       "      <td>...</td>\n",
       "      <td>0.795618</td>\n",
       "      <td>1.223486</td>\n",
       "      <td>0.272840</td>\n",
       "      <td>2.431718</td>\n",
       "      <td>1.676103</td>\n",
       "      <td>1.016295</td>\n",
       "      <td>0.060553</td>\n",
       "      <td>-0.099814</td>\n",
       "      <td>-0.353378</td>\n",
       "      <td>0.0</td>\n",
       "    </tr>\n",
       "    <tr>\n",
       "      <th>6</th>\n",
       "      <td>49</td>\n",
       "      <td>6</td>\n",
       "      <td>1</td>\n",
       "      <td>-0.296075</td>\n",
       "      <td>-1.227566</td>\n",
       "      <td>-0.318587</td>\n",
       "      <td>-0.790189</td>\n",
       "      <td>-0.540766</td>\n",
       "      <td>0.632442</td>\n",
       "      <td>-0.874631</td>\n",
       "      <td>...</td>\n",
       "      <td>-0.385687</td>\n",
       "      <td>-0.085234</td>\n",
       "      <td>-0.019232</td>\n",
       "      <td>-0.190726</td>\n",
       "      <td>-1.045373</td>\n",
       "      <td>-0.283877</td>\n",
       "      <td>0.060553</td>\n",
       "      <td>-0.939977</td>\n",
       "      <td>1.975045</td>\n",
       "      <td>0.0</td>\n",
       "    </tr>\n",
       "    <tr>\n",
       "      <th>7</th>\n",
       "      <td>49</td>\n",
       "      <td>38</td>\n",
       "      <td>1</td>\n",
       "      <td>-0.497697</td>\n",
       "      <td>-0.150163</td>\n",
       "      <td>1.705109</td>\n",
       "      <td>1.680542</td>\n",
       "      <td>2.079918</td>\n",
       "      <td>0.212534</td>\n",
       "      <td>1.835615</td>\n",
       "      <td>...</td>\n",
       "      <td>1.525148</td>\n",
       "      <td>2.951563</td>\n",
       "      <td>3.479965</td>\n",
       "      <td>1.936041</td>\n",
       "      <td>1.525207</td>\n",
       "      <td>0.596956</td>\n",
       "      <td>0.060553</td>\n",
       "      <td>-0.038805</td>\n",
       "      <td>-0.604132</td>\n",
       "      <td>0.0</td>\n",
       "    </tr>\n",
       "    <tr>\n",
       "      <th>8</th>\n",
       "      <td>49</td>\n",
       "      <td>39</td>\n",
       "      <td>1</td>\n",
       "      <td>-0.060850</td>\n",
       "      <td>0.251223</td>\n",
       "      <td>1.988684</td>\n",
       "      <td>1.939380</td>\n",
       "      <td>1.993322</td>\n",
       "      <td>-0.436415</td>\n",
       "      <td>2.086738</td>\n",
       "      <td>...</td>\n",
       "      <td>0.676348</td>\n",
       "      <td>1.906834</td>\n",
       "      <td>1.594544</td>\n",
       "      <td>2.146136</td>\n",
       "      <td>1.139595</td>\n",
       "      <td>0.848418</td>\n",
       "      <td>0.060553</td>\n",
       "      <td>-0.215616</td>\n",
       "      <td>-0.639953</td>\n",
       "      <td>0.0</td>\n",
       "    </tr>\n",
       "    <tr>\n",
       "      <th>9</th>\n",
       "      <td>49</td>\n",
       "      <td>40</td>\n",
       "      <td>1</td>\n",
       "      <td>-0.464093</td>\n",
       "      <td>-1.079687</td>\n",
       "      <td>1.795337</td>\n",
       "      <td>2.080565</td>\n",
       "      <td>2.093591</td>\n",
       "      <td>-0.543300</td>\n",
       "      <td>2.082395</td>\n",
       "      <td>...</td>\n",
       "      <td>0.207538</td>\n",
       "      <td>2.429577</td>\n",
       "      <td>2.342644</td>\n",
       "      <td>3.220761</td>\n",
       "      <td>0.751489</td>\n",
       "      <td>0.787578</td>\n",
       "      <td>-5.190404</td>\n",
       "      <td>-0.473848</td>\n",
       "      <td>-0.389200</td>\n",
       "      <td>0.0</td>\n",
       "    </tr>\n",
       "    <tr>\n",
       "      <th>10</th>\n",
       "      <td>49</td>\n",
       "      <td>41</td>\n",
       "      <td>1</td>\n",
       "      <td>-0.464093</td>\n",
       "      <td>-0.488172</td>\n",
       "      <td>-1.207981</td>\n",
       "      <td>-1.056871</td>\n",
       "      <td>-1.215308</td>\n",
       "      <td>0.021666</td>\n",
       "      <td>-1.138057</td>\n",
       "      <td>...</td>\n",
       "      <td>-0.385687</td>\n",
       "      <td>-0.085234</td>\n",
       "      <td>-0.019232</td>\n",
       "      <td>0.342593</td>\n",
       "      <td>-1.041144</td>\n",
       "      <td>-0.283877</td>\n",
       "      <td>0.060553</td>\n",
       "      <td>-0.937349</td>\n",
       "      <td>-0.353378</td>\n",
       "      <td>0.0</td>\n",
       "    </tr>\n",
       "    <tr>\n",
       "      <th>11</th>\n",
       "      <td>49</td>\n",
       "      <td>42</td>\n",
       "      <td>1</td>\n",
       "      <td>-2.278689</td>\n",
       "      <td>-1.037436</td>\n",
       "      <td>1.395754</td>\n",
       "      <td>1.617793</td>\n",
       "      <td>1.838359</td>\n",
       "      <td>-0.069950</td>\n",
       "      <td>1.565997</td>\n",
       "      <td>...</td>\n",
       "      <td>0.795618</td>\n",
       "      <td>1.223486</td>\n",
       "      <td>0.272840</td>\n",
       "      <td>2.431718</td>\n",
       "      <td>1.676103</td>\n",
       "      <td>1.016295</td>\n",
       "      <td>0.060553</td>\n",
       "      <td>-0.099814</td>\n",
       "      <td>-0.353378</td>\n",
       "      <td>0.0</td>\n",
       "    </tr>\n",
       "    <tr>\n",
       "      <th>12</th>\n",
       "      <td>49</td>\n",
       "      <td>43</td>\n",
       "      <td>1</td>\n",
       "      <td>-0.296075</td>\n",
       "      <td>-1.227566</td>\n",
       "      <td>-0.318587</td>\n",
       "      <td>-0.790189</td>\n",
       "      <td>-0.540766</td>\n",
       "      <td>0.632442</td>\n",
       "      <td>-0.874631</td>\n",
       "      <td>...</td>\n",
       "      <td>-0.385687</td>\n",
       "      <td>-0.085234</td>\n",
       "      <td>-0.019232</td>\n",
       "      <td>-0.190726</td>\n",
       "      <td>-1.045373</td>\n",
       "      <td>-0.283877</td>\n",
       "      <td>0.060553</td>\n",
       "      <td>-0.939977</td>\n",
       "      <td>1.975045</td>\n",
       "      <td>0.0</td>\n",
       "    </tr>\n",
       "  </tbody>\n",
       "</table>\n",
       "<p>12 rows × 283 columns</p>\n",
       "</div>"
      ],
      "text/plain": [
       "    user_id  swipe_number  action_number     ps_fs     ps_ls     ps_md  \\\n",
       "1        49             1              1 -0.497697 -0.150163  1.705109   \n",
       "2        49             2              1 -0.060850  0.251223  1.988684   \n",
       "3        49             3              1 -0.464093 -1.079687  1.795337   \n",
       "4        49             4              1 -0.464093 -0.488172 -1.207981   \n",
       "5        49             5              1 -2.278689 -1.037436  1.395754   \n",
       "6        49             6              1 -0.296075 -1.227566 -0.318587   \n",
       "7        49            38              1 -0.497697 -0.150163  1.705109   \n",
       "8        49            39              1 -0.060850  0.251223  1.988684   \n",
       "9        49            40              1 -0.464093 -1.079687  1.795337   \n",
       "10       49            41              1 -0.464093 -0.488172 -1.207981   \n",
       "11       49            42              1 -2.278689 -1.037436  1.395754   \n",
       "12       49            43              1 -0.296075 -1.227566 -0.318587   \n",
       "\n",
       "       ps_fq     ps_tq     ps_ir     ps_am  ...     ay_rg     ay_sk     ay_ku  \\\n",
       "1   1.680542  2.079918  0.212534  1.835615  ...  1.525148  2.951563  3.479965   \n",
       "2   1.939380  1.993322 -0.436415  2.086738  ...  0.676348  1.906834  1.594544   \n",
       "3   2.080565  2.093591 -0.543300  2.082395  ...  0.207538  2.429577  2.342644   \n",
       "4  -1.056871 -1.215308  0.021666 -1.138057  ... -0.385687 -0.085234 -0.019232   \n",
       "5   1.617793  1.838359 -0.069950  1.565997  ...  0.795618  1.223486  0.272840   \n",
       "6  -0.790189 -0.540766  0.632442 -0.874631  ... -0.385687 -0.085234 -0.019232   \n",
       "7   1.680542  2.079918  0.212534  1.835615  ...  1.525148  2.951563  3.479965   \n",
       "8   1.939380  1.993322 -0.436415  2.086738  ...  0.676348  1.906834  1.594544   \n",
       "9   2.080565  2.093591 -0.543300  2.082395  ...  0.207538  2.429577  2.342644   \n",
       "10 -1.056871 -1.215308  0.021666 -1.138057  ... -0.385687 -0.085234 -0.019232   \n",
       "11  1.617793  1.838359 -0.069950  1.565997  ...  0.795618  1.223486  0.272840   \n",
       "12 -0.790189 -0.540766  0.632442 -0.874631  ... -0.385687 -0.085234 -0.019232   \n",
       "\n",
       "       dp_mg     dp_ec    dp_ang  dp_avang     dp_ra     tm_dr  tm_fl  \n",
       "1   1.936041  1.525207  0.596956  0.060553 -0.038805 -0.604132    0.0  \n",
       "2   2.146136  1.139595  0.848418  0.060553 -0.215616 -0.639953    0.0  \n",
       "3   3.220761  0.751489  0.787578 -5.190404 -0.473848 -0.389200    0.0  \n",
       "4   0.342593 -1.041144 -0.283877  0.060553 -0.937349 -0.353378    0.0  \n",
       "5   2.431718  1.676103  1.016295  0.060553 -0.099814 -0.353378    0.0  \n",
       "6  -0.190726 -1.045373 -0.283877  0.060553 -0.939977  1.975045    0.0  \n",
       "7   1.936041  1.525207  0.596956  0.060553 -0.038805 -0.604132    0.0  \n",
       "8   2.146136  1.139595  0.848418  0.060553 -0.215616 -0.639953    0.0  \n",
       "9   3.220761  0.751489  0.787578 -5.190404 -0.473848 -0.389200    0.0  \n",
       "10  0.342593 -1.041144 -0.283877  0.060553 -0.937349 -0.353378    0.0  \n",
       "11  2.431718  1.676103  1.016295  0.060553 -0.099814 -0.353378    0.0  \n",
       "12 -0.190726 -1.045373 -0.283877  0.060553 -0.939977  1.975045    0.0  \n",
       "\n",
       "[12 rows x 283 columns]"
      ]
     },
     "execution_count": 154,
     "metadata": {},
     "output_type": "execute_result"
    }
   ],
   "source": [
    "dfnorm_attack[dfnorm_attack.action_number == 1]"
   ]
  },
  {
   "cell_type": "code",
   "execution_count": null,
   "metadata": {},
   "outputs": [],
   "source": []
  },
  {
   "cell_type": "code",
   "execution_count": 132,
   "metadata": {},
   "outputs": [
    {
     "data": {
      "text/plain": [
       "(37128, 6)"
      ]
     },
     "execution_count": 132,
     "metadata": {},
     "output_type": "execute_result"
    }
   ],
   "source": [
    "results_all.shape"
   ]
  },
  {
   "cell_type": "code",
   "execution_count": 189,
   "metadata": {},
   "outputs": [
    {
     "data": {
      "text/plain": [
       "0.02148747224865208"
      ]
     },
     "execution_count": 189,
     "metadata": {},
     "output_type": "execute_result"
    }
   ],
   "source": [
    "results_all['tn'].sum() / results_all[\"sz\"].sum()\n"
   ]
  },
  {
   "cell_type": "code",
   "execution_count": null,
   "metadata": {},
   "outputs": [],
   "source": []
  },
  {
   "cell_type": "code",
   "execution_count": null,
   "metadata": {},
   "outputs": [],
   "source": []
  },
  {
   "cell_type": "code",
   "execution_count": null,
   "metadata": {},
   "outputs": [],
   "source": []
  },
  {
   "cell_type": "code",
   "execution_count": null,
   "metadata": {},
   "outputs": [],
   "source": []
  },
  {
   "cell_type": "code",
   "execution_count": null,
   "metadata": {},
   "outputs": [],
   "source": []
  },
  {
   "cell_type": "code",
   "execution_count": null,
   "metadata": {},
   "outputs": [],
   "source": []
  },
  {
   "cell_type": "markdown",
   "metadata": {},
   "source": [
    "### All against template user"
   ]
  },
  {
   "cell_type": "code",
   "execution_count": null,
   "metadata": {},
   "outputs": [],
   "source": []
  },
  {
   "cell_type": "code",
   "execution_count": null,
   "metadata": {},
   "outputs": [],
   "source": [
    "scores = ['precision', 'recall']\n",
    "for score in scores: \n",
    "    search  = GridSearchCV(OneClassSVM(), tuned_parameters, cv=10,\n",
    "                           scoring='%s_macro' % score, return_train_score=True)\n",
    "    search.fit(Xpca)\n",
    "    \n",
    "    #resultDf = pd.DataFrame(search.cv_results_)\n",
    "    #print(resultDf[[\"mean_test_score\", \"std_test_score\", \"params\"]].sort_values(by=[\"mean_test_score\"], ascending=False).head())\n",
    "\n",
    "    print(\"Best parameters set found on development set:\")\n",
    "    print()\n",
    "    print(search.cv_results_)"
   ]
  },
  {
   "cell_type": "code",
   "execution_count": null,
   "metadata": {},
   "outputs": [],
   "source": []
  },
  {
   "cell_type": "code",
   "execution_count": null,
   "metadata": {},
   "outputs": [],
   "source": []
  },
  {
   "cell_type": "code",
   "execution_count": null,
   "metadata": {},
   "outputs": [],
   "source": []
  },
  {
   "cell_type": "code",
   "execution_count": null,
   "metadata": {},
   "outputs": [],
   "source": []
  },
  {
   "cell_type": "code",
   "execution_count": null,
   "metadata": {},
   "outputs": [],
   "source": []
  },
  {
   "cell_type": "code",
   "execution_count": null,
   "metadata": {},
   "outputs": [],
   "source": []
  },
  {
   "cell_type": "code",
   "execution_count": null,
   "metadata": {},
   "outputs": [],
   "source": []
  },
  {
   "cell_type": "code",
   "execution_count": null,
   "metadata": {},
   "outputs": [],
   "source": []
  },
  {
   "cell_type": "code",
   "execution_count": null,
   "metadata": {},
   "outputs": [],
   "source": []
  },
  {
   "cell_type": "code",
   "execution_count": null,
   "metadata": {},
   "outputs": [],
   "source": []
  },
  {
   "cell_type": "code",
   "execution_count": 11,
   "metadata": {},
   "outputs": [],
   "source": [
    "pipe = Pipeline(steps=[(\"pca\", pca), \"svm\", svm])\n"
   ]
  },
  {
   "cell_type": "code",
   "execution_count": 12,
   "metadata": {},
   "outputs": [],
   "source": [
    "param_grid = {\n",
    "    \"pca__n_components\": [30, 40, 50, 60, 70]\n",
    "}"
   ]
  },
  {
   "cell_type": "code",
   "execution_count": 20,
   "metadata": {},
   "outputs": [
    {
     "ename": "TypeError",
     "evalue": "GridSearchCV.__init__() got an unexpected keyword argument 'tuned_parameters'",
     "output_type": "error",
     "traceback": [
      "\u001b[0;31m---------------------------------------------------------------------------\u001b[0m",
      "\u001b[0;31mTypeError\u001b[0m                                 Traceback (most recent call last)",
      "Cell \u001b[0;32mIn[20], line 4\u001b[0m\n\u001b[1;32m      2\u001b[0m gammas \u001b[38;5;241m=\u001b[39m [\u001b[38;5;241m0.001\u001b[39m, \u001b[38;5;241m0.01\u001b[39m, \u001b[38;5;241m0.1\u001b[39m, \u001b[38;5;241m1\u001b[39m]\n\u001b[1;32m      3\u001b[0m tuned_parameters \u001b[38;5;241m=\u001b[39m {\u001b[38;5;124m'\u001b[39m\u001b[38;5;124mkernel\u001b[39m\u001b[38;5;124m'\u001b[39m : [\u001b[38;5;124m'\u001b[39m\u001b[38;5;124mrbf\u001b[39m\u001b[38;5;124m'\u001b[39m], \u001b[38;5;124m'\u001b[39m\u001b[38;5;124mgamma\u001b[39m\u001b[38;5;124m'\u001b[39m : gammas, \u001b[38;5;124m'\u001b[39m\u001b[38;5;124mnu\u001b[39m\u001b[38;5;124m'\u001b[39m: nus}\n\u001b[0;32m----> 4\u001b[0m search  \u001b[38;5;241m=\u001b[39m \u001b[43mGridSearchCV\u001b[49m\u001b[43m(\u001b[49m\u001b[43mpipe\u001b[49m\u001b[43m,\u001b[49m\u001b[43m \u001b[49m\u001b[43mparam_grid\u001b[49m\u001b[38;5;241;43m=\u001b[39;49m\u001b[43m \u001b[49m\u001b[43mparam_grid\u001b[49m\u001b[43m,\u001b[49m\u001b[43m \u001b[49m\n\u001b[1;32m      5\u001b[0m \u001b[43m                       \u001b[49m\u001b[43mn_jobs\u001b[49m\u001b[38;5;241;43m=\u001b[39;49m\u001b[43m \u001b[49m\u001b[38;5;241;43m2\u001b[39;49m\u001b[43m,\u001b[49m\u001b[43m \u001b[49m\u001b[43mtuned_parameters\u001b[49m\u001b[43m \u001b[49m\u001b[38;5;241;43m=\u001b[39;49m\u001b[43m  \u001b[49m\u001b[43mtuned_parameters\u001b[49m\u001b[43m)\u001b[49m\n",
      "\u001b[0;31mTypeError\u001b[0m: GridSearchCV.__init__() got an unexpected keyword argument 'tuned_parameters'"
     ]
    }
   ],
   "source": [
    "search  = GridSearchCV(pipe, param_grid= param_grid, n_jobs= 2)"
   ]
  },
  {
   "cell_type": "code",
   "execution_count": null,
   "metadata": {},
   "outputs": [],
   "source": [
    "splits = KFold(n_splits=5).split(X)"
   ]
  },
  {
   "cell_type": "code",
   "execution_count": 19,
   "metadata": {},
   "outputs": [
    {
     "ename": "TypeError",
     "evalue": "If no scoring is specified, the estimator passed should have a 'score' method. The estimator Pipeline(steps=[('pca', PCA(n_components='mle')), 'svm',\n                OneClassSVM(gamma='auto')]) does not.",
     "output_type": "error",
     "traceback": [
      "\u001b[0;31m---------------------------------------------------------------------------\u001b[0m",
      "\u001b[0;31mTypeError\u001b[0m                                 Traceback (most recent call last)",
      "Cell \u001b[0;32mIn[19], line 1\u001b[0m\n\u001b[0;32m----> 1\u001b[0m \u001b[43msearch\u001b[49m\u001b[38;5;241;43m.\u001b[39;49m\u001b[43mfit\u001b[49m\u001b[43m(\u001b[49m\u001b[43mX\u001b[49m\u001b[43m,\u001b[49m\u001b[43m \u001b[49m\u001b[43mX\u001b[49m\u001b[43m)\u001b[49m\n",
      "File \u001b[0;32m~/.local/lib/python3.10/site-packages/sklearn/base.py:1474\u001b[0m, in \u001b[0;36m_fit_context.<locals>.decorator.<locals>.wrapper\u001b[0;34m(estimator, *args, **kwargs)\u001b[0m\n\u001b[1;32m   1467\u001b[0m     estimator\u001b[38;5;241m.\u001b[39m_validate_params()\n\u001b[1;32m   1469\u001b[0m \u001b[38;5;28;01mwith\u001b[39;00m config_context(\n\u001b[1;32m   1470\u001b[0m     skip_parameter_validation\u001b[38;5;241m=\u001b[39m(\n\u001b[1;32m   1471\u001b[0m         prefer_skip_nested_validation \u001b[38;5;129;01mor\u001b[39;00m global_skip_validation\n\u001b[1;32m   1472\u001b[0m     )\n\u001b[1;32m   1473\u001b[0m ):\n\u001b[0;32m-> 1474\u001b[0m     \u001b[38;5;28;01mreturn\u001b[39;00m \u001b[43mfit_method\u001b[49m\u001b[43m(\u001b[49m\u001b[43mestimator\u001b[49m\u001b[43m,\u001b[49m\u001b[43m \u001b[49m\u001b[38;5;241;43m*\u001b[39;49m\u001b[43margs\u001b[49m\u001b[43m,\u001b[49m\u001b[43m \u001b[49m\u001b[38;5;241;43m*\u001b[39;49m\u001b[38;5;241;43m*\u001b[39;49m\u001b[43mkwargs\u001b[49m\u001b[43m)\u001b[49m\n",
      "File \u001b[0;32m~/.local/lib/python3.10/site-packages/sklearn/model_selection/_search.py:872\u001b[0m, in \u001b[0;36mBaseSearchCV.fit\u001b[0;34m(self, X, y, **params)\u001b[0m\n\u001b[1;32m    868\u001b[0m estimator \u001b[38;5;241m=\u001b[39m \u001b[38;5;28mself\u001b[39m\u001b[38;5;241m.\u001b[39mestimator\n\u001b[1;32m    869\u001b[0m \u001b[38;5;66;03m# Here we keep a dict of scorers as is, and only convert to a\u001b[39;00m\n\u001b[1;32m    870\u001b[0m \u001b[38;5;66;03m# _MultimetricScorer at a later stage. Issue:\u001b[39;00m\n\u001b[1;32m    871\u001b[0m \u001b[38;5;66;03m# https://github.com/scikit-learn/scikit-learn/issues/27001\u001b[39;00m\n\u001b[0;32m--> 872\u001b[0m scorers, refit_metric \u001b[38;5;241m=\u001b[39m \u001b[38;5;28;43mself\u001b[39;49m\u001b[38;5;241;43m.\u001b[39;49m\u001b[43m_get_scorers\u001b[49m\u001b[43m(\u001b[49m\u001b[43mconvert_multimetric\u001b[49m\u001b[38;5;241;43m=\u001b[39;49m\u001b[38;5;28;43;01mFalse\u001b[39;49;00m\u001b[43m)\u001b[49m\n\u001b[1;32m    874\u001b[0m X, y \u001b[38;5;241m=\u001b[39m indexable(X, y)\n\u001b[1;32m    875\u001b[0m params \u001b[38;5;241m=\u001b[39m _check_method_params(X, params\u001b[38;5;241m=\u001b[39mparams)\n",
      "File \u001b[0;32m~/.local/lib/python3.10/site-packages/sklearn/model_selection/_search.py:805\u001b[0m, in \u001b[0;36mBaseSearchCV._get_scorers\u001b[0;34m(self, convert_multimetric)\u001b[0m\n\u001b[1;32m    803\u001b[0m     scorers \u001b[38;5;241m=\u001b[39m \u001b[38;5;28mself\u001b[39m\u001b[38;5;241m.\u001b[39mscoring\n\u001b[1;32m    804\u001b[0m \u001b[38;5;28;01melif\u001b[39;00m \u001b[38;5;28mself\u001b[39m\u001b[38;5;241m.\u001b[39mscoring \u001b[38;5;129;01mis\u001b[39;00m \u001b[38;5;28;01mNone\u001b[39;00m \u001b[38;5;129;01mor\u001b[39;00m \u001b[38;5;28misinstance\u001b[39m(\u001b[38;5;28mself\u001b[39m\u001b[38;5;241m.\u001b[39mscoring, \u001b[38;5;28mstr\u001b[39m):\n\u001b[0;32m--> 805\u001b[0m     scorers \u001b[38;5;241m=\u001b[39m \u001b[43mcheck_scoring\u001b[49m\u001b[43m(\u001b[49m\u001b[38;5;28;43mself\u001b[39;49m\u001b[38;5;241;43m.\u001b[39;49m\u001b[43mestimator\u001b[49m\u001b[43m,\u001b[49m\u001b[43m \u001b[49m\u001b[38;5;28;43mself\u001b[39;49m\u001b[38;5;241;43m.\u001b[39;49m\u001b[43mscoring\u001b[49m\u001b[43m)\u001b[49m\n\u001b[1;32m    806\u001b[0m \u001b[38;5;28;01melse\u001b[39;00m:\n\u001b[1;32m    807\u001b[0m     scorers \u001b[38;5;241m=\u001b[39m _check_multimetric_scoring(\u001b[38;5;28mself\u001b[39m\u001b[38;5;241m.\u001b[39mestimator, \u001b[38;5;28mself\u001b[39m\u001b[38;5;241m.\u001b[39mscoring)\n",
      "File \u001b[0;32m~/.local/lib/python3.10/site-packages/sklearn/utils/_param_validation.py:213\u001b[0m, in \u001b[0;36mvalidate_params.<locals>.decorator.<locals>.wrapper\u001b[0;34m(*args, **kwargs)\u001b[0m\n\u001b[1;32m    207\u001b[0m \u001b[38;5;28;01mtry\u001b[39;00m:\n\u001b[1;32m    208\u001b[0m     \u001b[38;5;28;01mwith\u001b[39;00m config_context(\n\u001b[1;32m    209\u001b[0m         skip_parameter_validation\u001b[38;5;241m=\u001b[39m(\n\u001b[1;32m    210\u001b[0m             prefer_skip_nested_validation \u001b[38;5;129;01mor\u001b[39;00m global_skip_validation\n\u001b[1;32m    211\u001b[0m         )\n\u001b[1;32m    212\u001b[0m     ):\n\u001b[0;32m--> 213\u001b[0m         \u001b[38;5;28;01mreturn\u001b[39;00m \u001b[43mfunc\u001b[49m\u001b[43m(\u001b[49m\u001b[38;5;241;43m*\u001b[39;49m\u001b[43margs\u001b[49m\u001b[43m,\u001b[49m\u001b[43m \u001b[49m\u001b[38;5;241;43m*\u001b[39;49m\u001b[38;5;241;43m*\u001b[39;49m\u001b[43mkwargs\u001b[49m\u001b[43m)\u001b[49m\n\u001b[1;32m    214\u001b[0m \u001b[38;5;28;01mexcept\u001b[39;00m InvalidParameterError \u001b[38;5;28;01mas\u001b[39;00m e:\n\u001b[1;32m    215\u001b[0m     \u001b[38;5;66;03m# When the function is just a wrapper around an estimator, we allow\u001b[39;00m\n\u001b[1;32m    216\u001b[0m     \u001b[38;5;66;03m# the function to delegate validation to the estimator, but we replace\u001b[39;00m\n\u001b[1;32m    217\u001b[0m     \u001b[38;5;66;03m# the name of the estimator by the name of the function in the error\u001b[39;00m\n\u001b[1;32m    218\u001b[0m     \u001b[38;5;66;03m# message to avoid confusion.\u001b[39;00m\n\u001b[1;32m    219\u001b[0m     msg \u001b[38;5;241m=\u001b[39m re\u001b[38;5;241m.\u001b[39msub(\n\u001b[1;32m    220\u001b[0m         \u001b[38;5;124mr\u001b[39m\u001b[38;5;124m\"\u001b[39m\u001b[38;5;124mparameter of \u001b[39m\u001b[38;5;124m\\\u001b[39m\u001b[38;5;124mw+ must be\u001b[39m\u001b[38;5;124m\"\u001b[39m,\n\u001b[1;32m    221\u001b[0m         \u001b[38;5;124mf\u001b[39m\u001b[38;5;124m\"\u001b[39m\u001b[38;5;124mparameter of \u001b[39m\u001b[38;5;132;01m{\u001b[39;00mfunc\u001b[38;5;241m.\u001b[39m\u001b[38;5;18m__qualname__\u001b[39m\u001b[38;5;132;01m}\u001b[39;00m\u001b[38;5;124m must be\u001b[39m\u001b[38;5;124m\"\u001b[39m,\n\u001b[1;32m    222\u001b[0m         \u001b[38;5;28mstr\u001b[39m(e),\n\u001b[1;32m    223\u001b[0m     )\n",
      "File \u001b[0;32m~/.local/lib/python3.10/site-packages/sklearn/metrics/_scorer.py:951\u001b[0m, in \u001b[0;36mcheck_scoring\u001b[0;34m(estimator, scoring, allow_none)\u001b[0m\n\u001b[1;32m    949\u001b[0m     \u001b[38;5;28;01mreturn\u001b[39;00m \u001b[38;5;28;01mNone\u001b[39;00m\n\u001b[1;32m    950\u001b[0m \u001b[38;5;28;01melse\u001b[39;00m:\n\u001b[0;32m--> 951\u001b[0m     \u001b[38;5;28;01mraise\u001b[39;00m \u001b[38;5;167;01mTypeError\u001b[39;00m(\n\u001b[1;32m    952\u001b[0m         \u001b[38;5;124m\"\u001b[39m\u001b[38;5;124mIf no scoring is specified, the estimator passed should \u001b[39m\u001b[38;5;124m\"\u001b[39m\n\u001b[1;32m    953\u001b[0m         \u001b[38;5;124m\"\u001b[39m\u001b[38;5;124mhave a \u001b[39m\u001b[38;5;124m'\u001b[39m\u001b[38;5;124mscore\u001b[39m\u001b[38;5;124m'\u001b[39m\u001b[38;5;124m method. The estimator \u001b[39m\u001b[38;5;132;01m%r\u001b[39;00m\u001b[38;5;124m does not.\u001b[39m\u001b[38;5;124m\"\u001b[39m \u001b[38;5;241m%\u001b[39m estimator\n\u001b[1;32m    954\u001b[0m     )\n",
      "\u001b[0;31mTypeError\u001b[0m: If no scoring is specified, the estimator passed should have a 'score' method. The estimator Pipeline(steps=[('pca', PCA(n_components='mle')), 'svm',\n                OneClassSVM(gamma='auto')]) does not."
     ]
    }
   ],
   "source": [
    "search.fit(X, X)"
   ]
  },
  {
   "cell_type": "code",
   "execution_count": null,
   "metadata": {},
   "outputs": [],
   "source": []
  },
  {
   "cell_type": "code",
   "execution_count": 285,
   "metadata": {},
   "outputs": [
    {
     "name": "stdout",
     "output_type": "stream",
     "text": [
      "/home/jcscabral/Studies/UspEsalq/Tcc/projeto/pesquisa/code/R/swipecards/card49.csv\n"
     ]
    }
   ],
   "source": [
    "pathfile = pathfiles[0]\n",
    "print(pathfile)"
   ]
  },
  {
   "cell_type": "code",
   "execution_count": 167,
   "metadata": {},
   "outputs": [
    {
     "data": {
      "text/plain": [
       "(52, 283)"
      ]
     },
     "execution_count": 167,
     "metadata": {},
     "output_type": "execute_result"
    }
   ],
   "source": [
    "X =  pd.read_csv(pathfile, index_col=0)\n",
    "X.shape"
   ]
  },
  {
   "cell_type": "code",
   "execution_count": 134,
   "metadata": {},
   "outputs": [
    {
     "data": {
      "text/html": [
       "<div>\n",
       "<style scoped>\n",
       "    .dataframe tbody tr th:only-of-type {\n",
       "        vertical-align: middle;\n",
       "    }\n",
       "\n",
       "    .dataframe tbody tr th {\n",
       "        vertical-align: top;\n",
       "    }\n",
       "\n",
       "    .dataframe thead th {\n",
       "        text-align: right;\n",
       "    }\n",
       "</style>\n",
       "<table border=\"1\" class=\"dataframe\">\n",
       "  <thead>\n",
       "    <tr style=\"text-align: right;\">\n",
       "      <th></th>\n",
       "      <th>user_id</th>\n",
       "      <th>action_number</th>\n",
       "      <th>swipe_number</th>\n",
       "      <th>ps_fs</th>\n",
       "      <th>ps_ls</th>\n",
       "      <th>ps_md</th>\n",
       "      <th>ps_fq</th>\n",
       "      <th>ps_tq</th>\n",
       "      <th>ps_ir</th>\n",
       "      <th>ps_am</th>\n",
       "      <th>...</th>\n",
       "      <th>ay_rg</th>\n",
       "      <th>ay_sk</th>\n",
       "      <th>ay_ku</th>\n",
       "      <th>dp_mg</th>\n",
       "      <th>dp_ec</th>\n",
       "      <th>dp_ang</th>\n",
       "      <th>dp_avang</th>\n",
       "      <th>dp_ra</th>\n",
       "      <th>tm_dr</th>\n",
       "      <th>tm_fl</th>\n",
       "    </tr>\n",
       "  </thead>\n",
       "  <tbody>\n",
       "    <tr>\n",
       "      <th>1</th>\n",
       "      <td>55</td>\n",
       "      <td>1</td>\n",
       "      <td>1</td>\n",
       "      <td>0.059585</td>\n",
       "      <td>0.037851</td>\n",
       "      <td>0.059585</td>\n",
       "      <td>0.057631</td>\n",
       "      <td>0.065446</td>\n",
       "      <td>0.007814</td>\n",
       "      <td>0.059604</td>\n",
       "      <td>...</td>\n",
       "      <td>0.012787</td>\n",
       "      <td>0.377864</td>\n",
       "      <td>-1.286558</td>\n",
       "      <td>1706.729543</td>\n",
       "      <td>504.892068</td>\n",
       "      <td>0.059454</td>\n",
       "      <td>0.000000</td>\n",
       "      <td>0.295824</td>\n",
       "      <td>15</td>\n",
       "      <td>0</td>\n",
       "    </tr>\n",
       "    <tr>\n",
       "      <th>2</th>\n",
       "      <td>55</td>\n",
       "      <td>1</td>\n",
       "      <td>2</td>\n",
       "      <td>0.060562</td>\n",
       "      <td>0.035165</td>\n",
       "      <td>0.064103</td>\n",
       "      <td>0.061111</td>\n",
       "      <td>0.069353</td>\n",
       "      <td>0.008242</td>\n",
       "      <td>0.060073</td>\n",
       "      <td>...</td>\n",
       "      <td>0.025736</td>\n",
       "      <td>0.521633</td>\n",
       "      <td>-1.393238</td>\n",
       "      <td>1321.616549</td>\n",
       "      <td>399.405809</td>\n",
       "      <td>0.045082</td>\n",
       "      <td>-0.080144</td>\n",
       "      <td>0.302210</td>\n",
       "      <td>15</td>\n",
       "      <td>0</td>\n",
       "    </tr>\n",
       "    <tr>\n",
       "      <th>3</th>\n",
       "      <td>55</td>\n",
       "      <td>1</td>\n",
       "      <td>3</td>\n",
       "      <td>0.055433</td>\n",
       "      <td>0.040781</td>\n",
       "      <td>0.066911</td>\n",
       "      <td>0.048107</td>\n",
       "      <td>0.068254</td>\n",
       "      <td>0.020147</td>\n",
       "      <td>0.058538</td>\n",
       "      <td>...</td>\n",
       "      <td>0.019428</td>\n",
       "      <td>0.359178</td>\n",
       "      <td>-1.557358</td>\n",
       "      <td>976.216914</td>\n",
       "      <td>330.945615</td>\n",
       "      <td>0.075613</td>\n",
       "      <td>-0.116659</td>\n",
       "      <td>0.339008</td>\n",
       "      <td>15</td>\n",
       "      <td>0</td>\n",
       "    </tr>\n",
       "    <tr>\n",
       "      <th>4</th>\n",
       "      <td>55</td>\n",
       "      <td>1</td>\n",
       "      <td>4</td>\n",
       "      <td>0.060806</td>\n",
       "      <td>0.035409</td>\n",
       "      <td>0.048107</td>\n",
       "      <td>0.041758</td>\n",
       "      <td>0.054457</td>\n",
       "      <td>0.012698</td>\n",
       "      <td>0.048107</td>\n",
       "      <td>...</td>\n",
       "      <td>0.000000</td>\n",
       "      <td>0.000000</td>\n",
       "      <td>0.000000</td>\n",
       "      <td>880.160213</td>\n",
       "      <td>0.000000</td>\n",
       "      <td>0.000000</td>\n",
       "      <td>0.000000</td>\n",
       "      <td>0.000000</td>\n",
       "      <td>97</td>\n",
       "      <td>0</td>\n",
       "    </tr>\n",
       "    <tr>\n",
       "      <th>5</th>\n",
       "      <td>55</td>\n",
       "      <td>1</td>\n",
       "      <td>5</td>\n",
       "      <td>0.052259</td>\n",
       "      <td>0.038584</td>\n",
       "      <td>0.063004</td>\n",
       "      <td>0.059829</td>\n",
       "      <td>0.065568</td>\n",
       "      <td>0.005739</td>\n",
       "      <td>0.061775</td>\n",
       "      <td>...</td>\n",
       "      <td>0.093586</td>\n",
       "      <td>4.423592</td>\n",
       "      <td>20.103405</td>\n",
       "      <td>2816.120776</td>\n",
       "      <td>539.334775</td>\n",
       "      <td>0.035236</td>\n",
       "      <td>0.000000</td>\n",
       "      <td>0.191517</td>\n",
       "      <td>17</td>\n",
       "      <td>0</td>\n",
       "    </tr>\n",
       "  </tbody>\n",
       "</table>\n",
       "<p>5 rows × 283 columns</p>\n",
       "</div>"
      ],
      "text/plain": [
       "   user_id  action_number  swipe_number     ps_fs     ps_ls     ps_md  \\\n",
       "1       55              1             1  0.059585  0.037851  0.059585   \n",
       "2       55              1             2  0.060562  0.035165  0.064103   \n",
       "3       55              1             3  0.055433  0.040781  0.066911   \n",
       "4       55              1             4  0.060806  0.035409  0.048107   \n",
       "5       55              1             5  0.052259  0.038584  0.063004   \n",
       "\n",
       "      ps_fq     ps_tq     ps_ir     ps_am  ...     ay_rg     ay_sk      ay_ku  \\\n",
       "1  0.057631  0.065446  0.007814  0.059604  ...  0.012787  0.377864  -1.286558   \n",
       "2  0.061111  0.069353  0.008242  0.060073  ...  0.025736  0.521633  -1.393238   \n",
       "3  0.048107  0.068254  0.020147  0.058538  ...  0.019428  0.359178  -1.557358   \n",
       "4  0.041758  0.054457  0.012698  0.048107  ...  0.000000  0.000000   0.000000   \n",
       "5  0.059829  0.065568  0.005739  0.061775  ...  0.093586  4.423592  20.103405   \n",
       "\n",
       "         dp_mg       dp_ec    dp_ang  dp_avang     dp_ra  tm_dr  tm_fl  \n",
       "1  1706.729543  504.892068  0.059454  0.000000  0.295824     15      0  \n",
       "2  1321.616549  399.405809  0.045082 -0.080144  0.302210     15      0  \n",
       "3   976.216914  330.945615  0.075613 -0.116659  0.339008     15      0  \n",
       "4   880.160213    0.000000  0.000000  0.000000  0.000000     97      0  \n",
       "5  2816.120776  539.334775  0.035236  0.000000  0.191517     17      0  \n",
       "\n",
       "[5 rows x 283 columns]"
      ]
     },
     "execution_count": 134,
     "metadata": {},
     "output_type": "execute_result"
    }
   ],
   "source": [
    "X.head()"
   ]
  },
  {
   "cell_type": "code",
   "execution_count": 138,
   "metadata": {},
   "outputs": [
    {
     "data": {
      "text/plain": [
       "<bound method Series.unique of 1    1\n",
       "2    2\n",
       "3    3\n",
       "4    4\n",
       "5    5\n",
       "Name: swipe_number, dtype: int64>"
      ]
     },
     "execution_count": 138,
     "metadata": {},
     "output_type": "execute_result"
    }
   ],
   "source": [
    "Xtrain = X[X[\"swipe_number\"] < 6]\n",
    "Xtrain[\"swipe_number\"].unique"
   ]
  },
  {
   "cell_type": "code",
   "execution_count": 139,
   "metadata": {},
   "outputs": [
    {
     "data": {
      "text/plain": [
       "<bound method Series.unique of 6    6\n",
       "Name: swipe_number, dtype: int64>"
      ]
     },
     "execution_count": 139,
     "metadata": {},
     "output_type": "execute_result"
    }
   ],
   "source": [
    "Xtest = X[X[\"swipe_number\"] == 6]\n",
    "Xtest[\"swipe_number\"].unique"
   ]
  },
  {
   "cell_type": "code",
   "execution_count": 140,
   "metadata": {},
   "outputs": [
    {
     "data": {
      "text/plain": [
       "<bound method Series.unique of 7    7\n",
       "Name: swipe_number, dtype: int64>"
      ]
     },
     "execution_count": 140,
     "metadata": {},
     "output_type": "execute_result"
    }
   ],
   "source": [
    "Xval = X[X[\"swipe_number\"] == 7]\n",
    "Xval[\"swipe_number\"].unique"
   ]
  },
  {
   "cell_type": "code",
   "execution_count": 7,
   "metadata": {},
   "outputs": [],
   "source": [
    "# Normalization\n",
    "Xn = (X.iloc[:,2:] - X.iloc[:,2:].mean())/X.iloc[:,2:].std()"
   ]
  },
  {
   "cell_type": "code",
   "execution_count": 291,
   "metadata": {},
   "outputs": [],
   "source": [
    "# Standardization (worst perfomance)\n",
    "#Xn  = (X.iloc[:,2:] -  (X.iloc[:,2:]).min()) / ((X.iloc[:,2:]).max() - (X.iloc[:,2:]).min())"
   ]
  },
  {
   "cell_type": "code",
   "execution_count": 9,
   "metadata": {},
   "outputs": [
    {
     "name": "stderr",
     "output_type": "stream",
     "text": [
      "/tmp/ipykernel_319968/1606918020.py:1: PerformanceWarning: DataFrame is highly fragmented.  This is usually the result of calling `frame.insert` many times, which has poor performance.  Consider joining all columns at once using pd.concat(axis=1) instead. To get a de-fragmented frame, use `newframe = frame.copy()`\n",
      "  Xn['user_id'] = X[\"user_id\"]\n",
      "/tmp/ipykernel_319968/1606918020.py:2: PerformanceWarning: DataFrame is highly fragmented.  This is usually the result of calling `frame.insert` many times, which has poor performance.  Consider joining all columns at once using pd.concat(axis=1) instead. To get a de-fragmented frame, use `newframe = frame.copy()`\n",
      "  Xn['swipe_number'] = X[\"swipe_number\"]\n"
     ]
    }
   ],
   "source": [
    "Xn['user_id'] = X[\"user_id\"] \n",
    "Xn['swipe_number'] = X[\"swipe_number\"] "
   ]
  },
  {
   "cell_type": "code",
   "execution_count": 10,
   "metadata": {},
   "outputs": [],
   "source": [
    "cols = np.concatenate([Xn.columns.values[-2:], Xn.columns.values[:-2]])"
   ]
  },
  {
   "cell_type": "code",
   "execution_count": 11,
   "metadata": {},
   "outputs": [],
   "source": [
    "Xn = Xn[cols]"
   ]
  },
  {
   "cell_type": "code",
   "execution_count": 12,
   "metadata": {},
   "outputs": [],
   "source": [
    "Xn.fillna(0, inplace=True)"
   ]
  },
  {
   "cell_type": "code",
   "execution_count": 13,
   "metadata": {},
   "outputs": [],
   "source": [
    "# first five sessions\n",
    "\n",
    "Xtrain  = Xn[Xn[\"swipe_number\"] <=41]"
   ]
  },
  {
   "cell_type": "code",
   "execution_count": 14,
   "metadata": {},
   "outputs": [],
   "source": [
    "Xtrain = Xtrain.iloc[:,2:] "
   ]
  },
  {
   "cell_type": "code",
   "execution_count": 50,
   "metadata": {},
   "outputs": [
    {
     "data": {
      "text/plain": [
       "(41, 280)"
      ]
     },
     "execution_count": 50,
     "metadata": {},
     "output_type": "execute_result"
    }
   ],
   "source": [
    "Xtrain.shape"
   ]
  },
  {
   "cell_type": "code",
   "execution_count": 16,
   "metadata": {},
   "outputs": [],
   "source": [
    "pca = PCA()\n",
    "Xpca = pca.fit_transform(Xtrain)"
   ]
  },
  {
   "cell_type": "code",
   "execution_count": 51,
   "metadata": {},
   "outputs": [
    {
     "data": {
      "text/plain": [
       "(41, 41)"
      ]
     },
     "execution_count": 51,
     "metadata": {},
     "output_type": "execute_result"
    }
   ],
   "source": [
    "Xpca.shape"
   ]
  },
  {
   "cell_type": "code",
   "execution_count": 17,
   "metadata": {},
   "outputs": [],
   "source": [
    "Xtest  = Xn[(Xn[\"swipe_number\"] >41) & (Xn[\"swipe_number\"] <48)]"
   ]
  },
  {
   "cell_type": "code",
   "execution_count": 18,
   "metadata": {},
   "outputs": [],
   "source": [
    "Xtest = Xtest.iloc[:,2:] "
   ]
  },
  {
   "cell_type": "code",
   "execution_count": 49,
   "metadata": {},
   "outputs": [
    {
     "data": {
      "text/plain": [
       "(6, 280)"
      ]
     },
     "execution_count": 49,
     "metadata": {},
     "output_type": "execute_result"
    }
   ],
   "source": [
    "Xtest.shape"
   ]
  },
  {
   "cell_type": "code",
   "execution_count": 19,
   "metadata": {},
   "outputs": [],
   "source": [
    "Xtransf  = pca.transform(Xtest)"
   ]
  },
  {
   "cell_type": "code",
   "execution_count": 48,
   "metadata": {},
   "outputs": [
    {
     "data": {
      "text/plain": [
       "(6, 41)"
      ]
     },
     "execution_count": 48,
     "metadata": {},
     "output_type": "execute_result"
    }
   ],
   "source": [
    "Xtransf.shape"
   ]
  },
  {
   "cell_type": "code",
   "execution_count": 20,
   "metadata": {},
   "outputs": [],
   "source": [
    "svm =  OneClassSVM(gamma = 1.0e-7, kernel=\"rbf\", nu=0.1)"
   ]
  },
  {
   "cell_type": "code",
   "execution_count": 111,
   "metadata": {},
   "outputs": [
    {
     "data": {
      "text/html": [
       "<style>#sk-container-id-2 {\n",
       "  /* Definition of color scheme common for light and dark mode */\n",
       "  --sklearn-color-text: black;\n",
       "  --sklearn-color-line: gray;\n",
       "  /* Definition of color scheme for unfitted estimators */\n",
       "  --sklearn-color-unfitted-level-0: #fff5e6;\n",
       "  --sklearn-color-unfitted-level-1: #f6e4d2;\n",
       "  --sklearn-color-unfitted-level-2: #ffe0b3;\n",
       "  --sklearn-color-unfitted-level-3: chocolate;\n",
       "  /* Definition of color scheme for fitted estimators */\n",
       "  --sklearn-color-fitted-level-0: #f0f8ff;\n",
       "  --sklearn-color-fitted-level-1: #d4ebff;\n",
       "  --sklearn-color-fitted-level-2: #b3dbfd;\n",
       "  --sklearn-color-fitted-level-3: cornflowerblue;\n",
       "\n",
       "  /* Specific color for light theme */\n",
       "  --sklearn-color-text-on-default-background: var(--sg-text-color, var(--theme-code-foreground, var(--jp-content-font-color1, black)));\n",
       "  --sklearn-color-background: var(--sg-background-color, var(--theme-background, var(--jp-layout-color0, white)));\n",
       "  --sklearn-color-border-box: var(--sg-text-color, var(--theme-code-foreground, var(--jp-content-font-color1, black)));\n",
       "  --sklearn-color-icon: #696969;\n",
       "\n",
       "  @media (prefers-color-scheme: dark) {\n",
       "    /* Redefinition of color scheme for dark theme */\n",
       "    --sklearn-color-text-on-default-background: var(--sg-text-color, var(--theme-code-foreground, var(--jp-content-font-color1, white)));\n",
       "    --sklearn-color-background: var(--sg-background-color, var(--theme-background, var(--jp-layout-color0, #111)));\n",
       "    --sklearn-color-border-box: var(--sg-text-color, var(--theme-code-foreground, var(--jp-content-font-color1, white)));\n",
       "    --sklearn-color-icon: #878787;\n",
       "  }\n",
       "}\n",
       "\n",
       "#sk-container-id-2 {\n",
       "  color: var(--sklearn-color-text);\n",
       "}\n",
       "\n",
       "#sk-container-id-2 pre {\n",
       "  padding: 0;\n",
       "}\n",
       "\n",
       "#sk-container-id-2 input.sk-hidden--visually {\n",
       "  border: 0;\n",
       "  clip: rect(1px 1px 1px 1px);\n",
       "  clip: rect(1px, 1px, 1px, 1px);\n",
       "  height: 1px;\n",
       "  margin: -1px;\n",
       "  overflow: hidden;\n",
       "  padding: 0;\n",
       "  position: absolute;\n",
       "  width: 1px;\n",
       "}\n",
       "\n",
       "#sk-container-id-2 div.sk-dashed-wrapped {\n",
       "  border: 1px dashed var(--sklearn-color-line);\n",
       "  margin: 0 0.4em 0.5em 0.4em;\n",
       "  box-sizing: border-box;\n",
       "  padding-bottom: 0.4em;\n",
       "  background-color: var(--sklearn-color-background);\n",
       "}\n",
       "\n",
       "#sk-container-id-2 div.sk-container {\n",
       "  /* jupyter's `normalize.less` sets `[hidden] { display: none; }`\n",
       "     but bootstrap.min.css set `[hidden] { display: none !important; }`\n",
       "     so we also need the `!important` here to be able to override the\n",
       "     default hidden behavior on the sphinx rendered scikit-learn.org.\n",
       "     See: https://github.com/scikit-learn/scikit-learn/issues/21755 */\n",
       "  display: inline-block !important;\n",
       "  position: relative;\n",
       "}\n",
       "\n",
       "#sk-container-id-2 div.sk-text-repr-fallback {\n",
       "  display: none;\n",
       "}\n",
       "\n",
       "div.sk-parallel-item,\n",
       "div.sk-serial,\n",
       "div.sk-item {\n",
       "  /* draw centered vertical line to link estimators */\n",
       "  background-image: linear-gradient(var(--sklearn-color-text-on-default-background), var(--sklearn-color-text-on-default-background));\n",
       "  background-size: 2px 100%;\n",
       "  background-repeat: no-repeat;\n",
       "  background-position: center center;\n",
       "}\n",
       "\n",
       "/* Parallel-specific style estimator block */\n",
       "\n",
       "#sk-container-id-2 div.sk-parallel-item::after {\n",
       "  content: \"\";\n",
       "  width: 100%;\n",
       "  border-bottom: 2px solid var(--sklearn-color-text-on-default-background);\n",
       "  flex-grow: 1;\n",
       "}\n",
       "\n",
       "#sk-container-id-2 div.sk-parallel {\n",
       "  display: flex;\n",
       "  align-items: stretch;\n",
       "  justify-content: center;\n",
       "  background-color: var(--sklearn-color-background);\n",
       "  position: relative;\n",
       "}\n",
       "\n",
       "#sk-container-id-2 div.sk-parallel-item {\n",
       "  display: flex;\n",
       "  flex-direction: column;\n",
       "}\n",
       "\n",
       "#sk-container-id-2 div.sk-parallel-item:first-child::after {\n",
       "  align-self: flex-end;\n",
       "  width: 50%;\n",
       "}\n",
       "\n",
       "#sk-container-id-2 div.sk-parallel-item:last-child::after {\n",
       "  align-self: flex-start;\n",
       "  width: 50%;\n",
       "}\n",
       "\n",
       "#sk-container-id-2 div.sk-parallel-item:only-child::after {\n",
       "  width: 0;\n",
       "}\n",
       "\n",
       "/* Serial-specific style estimator block */\n",
       "\n",
       "#sk-container-id-2 div.sk-serial {\n",
       "  display: flex;\n",
       "  flex-direction: column;\n",
       "  align-items: center;\n",
       "  background-color: var(--sklearn-color-background);\n",
       "  padding-right: 1em;\n",
       "  padding-left: 1em;\n",
       "}\n",
       "\n",
       "\n",
       "/* Toggleable style: style used for estimator/Pipeline/ColumnTransformer box that is\n",
       "clickable and can be expanded/collapsed.\n",
       "- Pipeline and ColumnTransformer use this feature and define the default style\n",
       "- Estimators will overwrite some part of the style using the `sk-estimator` class\n",
       "*/\n",
       "\n",
       "/* Pipeline and ColumnTransformer style (default) */\n",
       "\n",
       "#sk-container-id-2 div.sk-toggleable {\n",
       "  /* Default theme specific background. It is overwritten whether we have a\n",
       "  specific estimator or a Pipeline/ColumnTransformer */\n",
       "  background-color: var(--sklearn-color-background);\n",
       "}\n",
       "\n",
       "/* Toggleable label */\n",
       "#sk-container-id-2 label.sk-toggleable__label {\n",
       "  cursor: pointer;\n",
       "  display: block;\n",
       "  width: 100%;\n",
       "  margin-bottom: 0;\n",
       "  padding: 0.5em;\n",
       "  box-sizing: border-box;\n",
       "  text-align: center;\n",
       "}\n",
       "\n",
       "#sk-container-id-2 label.sk-toggleable__label-arrow:before {\n",
       "  /* Arrow on the left of the label */\n",
       "  content: \"▸\";\n",
       "  float: left;\n",
       "  margin-right: 0.25em;\n",
       "  color: var(--sklearn-color-icon);\n",
       "}\n",
       "\n",
       "#sk-container-id-2 label.sk-toggleable__label-arrow:hover:before {\n",
       "  color: var(--sklearn-color-text);\n",
       "}\n",
       "\n",
       "/* Toggleable content - dropdown */\n",
       "\n",
       "#sk-container-id-2 div.sk-toggleable__content {\n",
       "  max-height: 0;\n",
       "  max-width: 0;\n",
       "  overflow: hidden;\n",
       "  text-align: left;\n",
       "  /* unfitted */\n",
       "  background-color: var(--sklearn-color-unfitted-level-0);\n",
       "}\n",
       "\n",
       "#sk-container-id-2 div.sk-toggleable__content.fitted {\n",
       "  /* fitted */\n",
       "  background-color: var(--sklearn-color-fitted-level-0);\n",
       "}\n",
       "\n",
       "#sk-container-id-2 div.sk-toggleable__content pre {\n",
       "  margin: 0.2em;\n",
       "  border-radius: 0.25em;\n",
       "  color: var(--sklearn-color-text);\n",
       "  /* unfitted */\n",
       "  background-color: var(--sklearn-color-unfitted-level-0);\n",
       "}\n",
       "\n",
       "#sk-container-id-2 div.sk-toggleable__content.fitted pre {\n",
       "  /* unfitted */\n",
       "  background-color: var(--sklearn-color-fitted-level-0);\n",
       "}\n",
       "\n",
       "#sk-container-id-2 input.sk-toggleable__control:checked~div.sk-toggleable__content {\n",
       "  /* Expand drop-down */\n",
       "  max-height: 200px;\n",
       "  max-width: 100%;\n",
       "  overflow: auto;\n",
       "}\n",
       "\n",
       "#sk-container-id-2 input.sk-toggleable__control:checked~label.sk-toggleable__label-arrow:before {\n",
       "  content: \"▾\";\n",
       "}\n",
       "\n",
       "/* Pipeline/ColumnTransformer-specific style */\n",
       "\n",
       "#sk-container-id-2 div.sk-label input.sk-toggleable__control:checked~label.sk-toggleable__label {\n",
       "  color: var(--sklearn-color-text);\n",
       "  background-color: var(--sklearn-color-unfitted-level-2);\n",
       "}\n",
       "\n",
       "#sk-container-id-2 div.sk-label.fitted input.sk-toggleable__control:checked~label.sk-toggleable__label {\n",
       "  background-color: var(--sklearn-color-fitted-level-2);\n",
       "}\n",
       "\n",
       "/* Estimator-specific style */\n",
       "\n",
       "/* Colorize estimator box */\n",
       "#sk-container-id-2 div.sk-estimator input.sk-toggleable__control:checked~label.sk-toggleable__label {\n",
       "  /* unfitted */\n",
       "  background-color: var(--sklearn-color-unfitted-level-2);\n",
       "}\n",
       "\n",
       "#sk-container-id-2 div.sk-estimator.fitted input.sk-toggleable__control:checked~label.sk-toggleable__label {\n",
       "  /* fitted */\n",
       "  background-color: var(--sklearn-color-fitted-level-2);\n",
       "}\n",
       "\n",
       "#sk-container-id-2 div.sk-label label.sk-toggleable__label,\n",
       "#sk-container-id-2 div.sk-label label {\n",
       "  /* The background is the default theme color */\n",
       "  color: var(--sklearn-color-text-on-default-background);\n",
       "}\n",
       "\n",
       "/* On hover, darken the color of the background */\n",
       "#sk-container-id-2 div.sk-label:hover label.sk-toggleable__label {\n",
       "  color: var(--sklearn-color-text);\n",
       "  background-color: var(--sklearn-color-unfitted-level-2);\n",
       "}\n",
       "\n",
       "/* Label box, darken color on hover, fitted */\n",
       "#sk-container-id-2 div.sk-label.fitted:hover label.sk-toggleable__label.fitted {\n",
       "  color: var(--sklearn-color-text);\n",
       "  background-color: var(--sklearn-color-fitted-level-2);\n",
       "}\n",
       "\n",
       "/* Estimator label */\n",
       "\n",
       "#sk-container-id-2 div.sk-label label {\n",
       "  font-family: monospace;\n",
       "  font-weight: bold;\n",
       "  display: inline-block;\n",
       "  line-height: 1.2em;\n",
       "}\n",
       "\n",
       "#sk-container-id-2 div.sk-label-container {\n",
       "  text-align: center;\n",
       "}\n",
       "\n",
       "/* Estimator-specific */\n",
       "#sk-container-id-2 div.sk-estimator {\n",
       "  font-family: monospace;\n",
       "  border: 1px dotted var(--sklearn-color-border-box);\n",
       "  border-radius: 0.25em;\n",
       "  box-sizing: border-box;\n",
       "  margin-bottom: 0.5em;\n",
       "  /* unfitted */\n",
       "  background-color: var(--sklearn-color-unfitted-level-0);\n",
       "}\n",
       "\n",
       "#sk-container-id-2 div.sk-estimator.fitted {\n",
       "  /* fitted */\n",
       "  background-color: var(--sklearn-color-fitted-level-0);\n",
       "}\n",
       "\n",
       "/* on hover */\n",
       "#sk-container-id-2 div.sk-estimator:hover {\n",
       "  /* unfitted */\n",
       "  background-color: var(--sklearn-color-unfitted-level-2);\n",
       "}\n",
       "\n",
       "#sk-container-id-2 div.sk-estimator.fitted:hover {\n",
       "  /* fitted */\n",
       "  background-color: var(--sklearn-color-fitted-level-2);\n",
       "}\n",
       "\n",
       "/* Specification for estimator info (e.g. \"i\" and \"?\") */\n",
       "\n",
       "/* Common style for \"i\" and \"?\" */\n",
       "\n",
       ".sk-estimator-doc-link,\n",
       "a:link.sk-estimator-doc-link,\n",
       "a:visited.sk-estimator-doc-link {\n",
       "  float: right;\n",
       "  font-size: smaller;\n",
       "  line-height: 1em;\n",
       "  font-family: monospace;\n",
       "  background-color: var(--sklearn-color-background);\n",
       "  border-radius: 1em;\n",
       "  height: 1em;\n",
       "  width: 1em;\n",
       "  text-decoration: none !important;\n",
       "  margin-left: 1ex;\n",
       "  /* unfitted */\n",
       "  border: var(--sklearn-color-unfitted-level-1) 1pt solid;\n",
       "  color: var(--sklearn-color-unfitted-level-1);\n",
       "}\n",
       "\n",
       ".sk-estimator-doc-link.fitted,\n",
       "a:link.sk-estimator-doc-link.fitted,\n",
       "a:visited.sk-estimator-doc-link.fitted {\n",
       "  /* fitted */\n",
       "  border: var(--sklearn-color-fitted-level-1) 1pt solid;\n",
       "  color: var(--sklearn-color-fitted-level-1);\n",
       "}\n",
       "\n",
       "/* On hover */\n",
       "div.sk-estimator:hover .sk-estimator-doc-link:hover,\n",
       ".sk-estimator-doc-link:hover,\n",
       "div.sk-label-container:hover .sk-estimator-doc-link:hover,\n",
       ".sk-estimator-doc-link:hover {\n",
       "  /* unfitted */\n",
       "  background-color: var(--sklearn-color-unfitted-level-3);\n",
       "  color: var(--sklearn-color-background);\n",
       "  text-decoration: none;\n",
       "}\n",
       "\n",
       "div.sk-estimator.fitted:hover .sk-estimator-doc-link.fitted:hover,\n",
       ".sk-estimator-doc-link.fitted:hover,\n",
       "div.sk-label-container:hover .sk-estimator-doc-link.fitted:hover,\n",
       ".sk-estimator-doc-link.fitted:hover {\n",
       "  /* fitted */\n",
       "  background-color: var(--sklearn-color-fitted-level-3);\n",
       "  color: var(--sklearn-color-background);\n",
       "  text-decoration: none;\n",
       "}\n",
       "\n",
       "/* Span, style for the box shown on hovering the info icon */\n",
       ".sk-estimator-doc-link span {\n",
       "  display: none;\n",
       "  z-index: 9999;\n",
       "  position: relative;\n",
       "  font-weight: normal;\n",
       "  right: .2ex;\n",
       "  padding: .5ex;\n",
       "  margin: .5ex;\n",
       "  width: min-content;\n",
       "  min-width: 20ex;\n",
       "  max-width: 50ex;\n",
       "  color: var(--sklearn-color-text);\n",
       "  box-shadow: 2pt 2pt 4pt #999;\n",
       "  /* unfitted */\n",
       "  background: var(--sklearn-color-unfitted-level-0);\n",
       "  border: .5pt solid var(--sklearn-color-unfitted-level-3);\n",
       "}\n",
       "\n",
       ".sk-estimator-doc-link.fitted span {\n",
       "  /* fitted */\n",
       "  background: var(--sklearn-color-fitted-level-0);\n",
       "  border: var(--sklearn-color-fitted-level-3);\n",
       "}\n",
       "\n",
       ".sk-estimator-doc-link:hover span {\n",
       "  display: block;\n",
       "}\n",
       "\n",
       "/* \"?\"-specific style due to the `<a>` HTML tag */\n",
       "\n",
       "#sk-container-id-2 a.estimator_doc_link {\n",
       "  float: right;\n",
       "  font-size: 1rem;\n",
       "  line-height: 1em;\n",
       "  font-family: monospace;\n",
       "  background-color: var(--sklearn-color-background);\n",
       "  border-radius: 1rem;\n",
       "  height: 1rem;\n",
       "  width: 1rem;\n",
       "  text-decoration: none;\n",
       "  /* unfitted */\n",
       "  color: var(--sklearn-color-unfitted-level-1);\n",
       "  border: var(--sklearn-color-unfitted-level-1) 1pt solid;\n",
       "}\n",
       "\n",
       "#sk-container-id-2 a.estimator_doc_link.fitted {\n",
       "  /* fitted */\n",
       "  border: var(--sklearn-color-fitted-level-1) 1pt solid;\n",
       "  color: var(--sklearn-color-fitted-level-1);\n",
       "}\n",
       "\n",
       "/* On hover */\n",
       "#sk-container-id-2 a.estimator_doc_link:hover {\n",
       "  /* unfitted */\n",
       "  background-color: var(--sklearn-color-unfitted-level-3);\n",
       "  color: var(--sklearn-color-background);\n",
       "  text-decoration: none;\n",
       "}\n",
       "\n",
       "#sk-container-id-2 a.estimator_doc_link.fitted:hover {\n",
       "  /* fitted */\n",
       "  background-color: var(--sklearn-color-fitted-level-3);\n",
       "}\n",
       "</style><div id=\"sk-container-id-2\" class=\"sk-top-container\"><div class=\"sk-text-repr-fallback\"><pre>OneClassSVM(gamma=1e-07, nu=0.001)</pre><b>In a Jupyter environment, please rerun this cell to show the HTML representation or trust the notebook. <br />On GitHub, the HTML representation is unable to render, please try loading this page with nbviewer.org.</b></div><div class=\"sk-container\" hidden><div class=\"sk-item\"><div class=\"sk-estimator fitted sk-toggleable\"><input class=\"sk-toggleable__control sk-hidden--visually\" id=\"sk-estimator-id-4\" type=\"checkbox\" checked><label for=\"sk-estimator-id-4\" class=\"sk-toggleable__label fitted sk-toggleable__label-arrow fitted\">&nbsp;&nbsp;OneClassSVM<a class=\"sk-estimator-doc-link fitted\" rel=\"noreferrer\" target=\"_blank\" href=\"https://scikit-learn.org/1.4/modules/generated/sklearn.svm.OneClassSVM.html\">?<span>Documentation for OneClassSVM</span></a><span class=\"sk-estimator-doc-link fitted\">i<span>Fitted</span></span></label><div class=\"sk-toggleable__content fitted\"><pre>OneClassSVM(gamma=1e-07, nu=0.001)</pre></div> </div></div></div></div>"
      ],
      "text/plain": [
       "OneClassSVM(gamma=1e-07, nu=0.001)"
      ]
     },
     "execution_count": 111,
     "metadata": {},
     "output_type": "execute_result"
    }
   ],
   "source": [
    "model = svm.fit(Xpca)\n",
    "model"
   ]
  },
  {
   "cell_type": "code",
   "execution_count": 22,
   "metadata": {},
   "outputs": [
    {
     "data": {
      "text/plain": [
       "array([ 1,  1,  1,  1, -1,  1,  1,  1,  1,  1,  1,  1,  1,  1, -1,  1,  1,\n",
       "        1,  1,  1, -1,  1,  1,  1,  1,  1, -1, -1, -1, -1,  1, -1,  1,  1,\n",
       "        1,  1,  1,  1,  1,  1, -1])"
      ]
     },
     "execution_count": 22,
     "metadata": {},
     "output_type": "execute_result"
    }
   ],
   "source": [
    "results = model.predict(Xpca)\n",
    "results"
   ]
  },
  {
   "cell_type": "code",
   "execution_count": 23,
   "metadata": {},
   "outputs": [
    {
     "data": {
      "text/plain": [
       "(32, 9)"
      ]
     },
     "execution_count": 23,
     "metadata": {},
     "output_type": "execute_result"
    }
   ],
   "source": [
    "results[results==1].shape[0], results[results==-1].shape[0]"
   ]
  },
  {
   "cell_type": "code",
   "execution_count": 24,
   "metadata": {},
   "outputs": [
    {
     "data": {
      "text/plain": [
       "array([4.09991406, 4.09992503, 4.09992009, 4.09983713, 4.09981922,\n",
       "       4.09987028, 4.09982766, 4.09989281, 4.09986248, 4.09985626,\n",
       "       4.09988872, 4.09982903, 4.09985487, 4.09989683, 4.09980536,\n",
       "       4.09988387, 4.09984858, 4.09982408, 4.09986194, 4.09982349,\n",
       "       4.09975219, 4.09985403, 4.09986727, 4.09982284, 4.0998931 ,\n",
       "       4.09992491, 4.09979999, 4.09980347, 4.09955329, 4.09981595,\n",
       "       4.09985165, 4.09974829, 4.09990628, 4.09989999, 4.09983396,\n",
       "       4.09983102, 4.09988856, 4.099897  , 4.09990428, 4.09990186,\n",
       "       4.09978332])"
      ]
     },
     "execution_count": 24,
     "metadata": {},
     "output_type": "execute_result"
    }
   ],
   "source": [
    "svm.score_samples(Xpca)"
   ]
  },
  {
   "cell_type": "code",
   "execution_count": 29,
   "metadata": {},
   "outputs": [
    {
     "data": {
      "text/plain": [
       "array([-1,  1,  1,  1,  1, -1])"
      ]
     },
     "execution_count": 29,
     "metadata": {},
     "output_type": "execute_result"
    }
   ],
   "source": [
    "results = model.predict(Xtransf)\n",
    "results"
   ]
  },
  {
   "cell_type": "code",
   "execution_count": 28,
   "metadata": {},
   "outputs": [
    {
     "data": {
      "text/plain": [
       "array([4.09981798, 4.09985134, 4.09983998, 4.09988365, 4.09989666,\n",
       "       4.09976309])"
      ]
     },
     "execution_count": 28,
     "metadata": {},
     "output_type": "execute_result"
    }
   ],
   "source": [
    "svm.score_samples(Xtransf)"
   ]
  },
  {
   "cell_type": "code",
   "execution_count": 97,
   "metadata": {},
   "outputs": [],
   "source": [
    "nus = np.arange(0.001, 1, step = 0.01)\n",
    "tuned_parameters = {'kernel' : ['rbf'], 'nu': nus}"
   ]
  }
 ],
 "metadata": {
  "kernelspec": {
   "display_name": ".venv",
   "language": "python",
   "name": "python3"
  },
  "language_info": {
   "codemirror_mode": {
    "name": "ipython",
    "version": 3
   },
   "file_extension": ".py",
   "mimetype": "text/x-python",
   "name": "python",
   "nbconvert_exporter": "python",
   "pygments_lexer": "ipython3",
   "version": "3.10.12"
  }
 },
 "nbformat": 4,
 "nbformat_minor": 2
}
